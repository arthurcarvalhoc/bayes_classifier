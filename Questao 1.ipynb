{
 "cells": [
  {
   "cell_type": "code",
   "execution_count": 1,
   "id": "e2211654",
   "metadata": {},
   "outputs": [],
   "source": [
    "import pandas as pd\n",
    "import matplotlib.pyplot as plt\n",
    "import numpy as np\n",
    "import json\n",
    "import pickle\n",
    "import gc\n",
    "\n",
    "from sklearn.model_selection import train_test_split\n",
    "from math import factorial\n",
    "from scipy.spatial import distance_matrix, distance\n",
    "from tqdm.notebook import tqdm\n",
    "from collections import defaultdict"
   ]
  },
  {
   "cell_type": "code",
   "execution_count": 2,
   "id": "b6cf3820",
   "metadata": {},
   "outputs": [],
   "source": [
    "@np.vectorize\n",
    "def combinations(n):\n",
    "    r=2\n",
    "    if (n-r)<0:\n",
    "        return 0\n",
    "    return factorial(n)/(factorial(r)*factorial(n-r))\n",
    "\n",
    "def adjusted_rand_index(cm):\n",
    "    m = combinations(cm).sum()\n",
    "    m1 = combinations(cm.sum(axis=1)).sum()\n",
    "    m2 = combinations(cm.sum(axis=0)).sum()\n",
    "    M = combinations(cm.sum())\n",
    "    \n",
    "    return (\n",
    "        (m - (m1*m2)/M)/\n",
    "        ((m1/2) + (m2/2) - (m1*m2)/M)\n",
    "    )\n",
    "\n",
    "def f_measure(cm):\n",
    "    val = []\n",
    "    ndotj = cm.sum(axis=0)\n",
    "    nidot = cm.sum(axis=1)\n",
    "    for j in range(cm.shape[1]):\n",
    "        partial = [\n",
    "            (\n",
    "                ((cm[i,j]*cm[i,j])/(nidot[i]*ndotj[j]))/\n",
    "                (cm[i,j]/nidot[i] + cm[i,j]/ndotj[j])\n",
    "            )\n",
    "            for i in range(cm.shape[0])\n",
    "        ]\n",
    "        \n",
    "        val.append((ndotj[j]/cm.sum())*max(partial))\n",
    "    \n",
    "    return sum(val)"
   ]
  },
  {
   "cell_type": "code",
   "execution_count": 3,
   "id": "64ce9283",
   "metadata": {},
   "outputs": [],
   "source": [
    "class RBSOM_CWMdd:\n",
    "    \"\"\"\n",
    "    The 2-D, rectangular grid self-organizing map class using Numpy.\n",
    "    \"\"\"\n",
    "\n",
    "    def __init__(self, n=1.1, q=5, x=5, y=5, max_iter=50):\n",
    "        \"\"\"\n",
    "        Parameters\n",
    "        ----------\n",
    "        n : float, default=1.1\n",
    "            Level of smoothness of the distribution\n",
    "            of medoids weights in each cluster prototype\n",
    "        q : int, default=5\n",
    "            Number of elements in each prototype Gr\n",
    "        x : int, default=5\n",
    "            x-dimension of the grid\n",
    "        y : int, default=5\n",
    "            y-dimension of the grid\n",
    "        max_iter : int, default=50\n",
    "            number of iterations to update the algorithm\n",
    "        \"\"\"\n",
    "        # Initialize features\n",
    "        self.x = x\n",
    "        self.y = y\n",
    "        self.q = q\n",
    "        self.n = n\n",
    "        self.C = int(x * y)\n",
    "        self.max_iter = max_iter\n",
    "        self.sigma_0 = np.sqrt(-(x * x + y * y) / (2 * np.log(0.1)))\n",
    "        self.sigma_f = np.sqrt(-1 / (2 * np.log(0.01)))\n",
    "        self.sigma = self.sigma_0\n",
    "        self.delta = self.create_delta_matrix()\n",
    "\n",
    "        # Initialize results log dict\n",
    "        self.iteration_results = defaultdict()\n",
    "\n",
    "    def create_delta_matrix(self):\n",
    "        x = self.x\n",
    "        y = self.y\n",
    "        C = self.C\n",
    "        nodes = []\n",
    "        for i in range(x):\n",
    "            for j in range(y):\n",
    "                nodes.append([i, j])\n",
    "\n",
    "        delta = np.empty((C, C))\n",
    "\n",
    "        for i in range(delta.shape[0]):\n",
    "            for j in range(delta.shape[1]):\n",
    "                delta[i, j] = np.square(distance.euclidean(nodes[i], nodes[j]))\n",
    "\n",
    "        return delta\n",
    "\n",
    "    def calc_sigma(self, t):\n",
    "        return self.sigma_0 * pow(\n",
    "            (self.sigma_f / self.sigma_0), t / self.max_iter\n",
    "        )\n",
    "\n",
    "    def calc_h(self, s, r, sigma):\n",
    "        s = int(s)\n",
    "        r = int(r)\n",
    "        dist = self.delta[s, r]\n",
    "        return np.exp(-dist / (2 * np.square(sigma)))\n",
    "\n",
    "    def build_h_matrix(self, sigma):\n",
    "        C = self.C\n",
    "        h_matrix = np.empty((C, C))\n",
    "\n",
    "        for i in range(h_matrix.shape[0]):\n",
    "            for j in range(h_matrix.shape[1]):\n",
    "                h_matrix[i, j] = self.calc_h(i, j, sigma)\n",
    "\n",
    "        return h_matrix\n",
    "\n",
    "    def initialize_prototypes(self, X):\n",
    "        C = self.C\n",
    "        q = self.q\n",
    "        G = []\n",
    "        for i in range(C):\n",
    "            G.append(pd.DataFrame(X).sample(q).index)\n",
    "\n",
    "        return np.array(G)\n",
    "\n",
    "    def init_weight_matrix(self):\n",
    "        C = self.C\n",
    "        q = self.q\n",
    "\n",
    "        v = pd.DataFrame(np.random.rand(C, q))\n",
    "        v_row_sum = np.array(v.sum(axis=1))\n",
    "        v = np.array(v)\n",
    "\n",
    "        for i in range(v.shape[0]):\n",
    "            for j in range(v.shape[1]):\n",
    "                v[i, j] = v[i, j] / v_row_sum[i]\n",
    "\n",
    "        return v\n",
    "\n",
    "    def build_norm_dmatrix(self, df):\n",
    "        dissimilarity = pd.DataFrame(\n",
    "            distance_matrix(df.values, df.values),\n",
    "            index=df.index,\n",
    "            columns=df.index,\n",
    "        )\n",
    "        norm_diss = np.array(\n",
    "            dissimilarity\n",
    "            / (dissimilarity.iloc[np.argmin(dissimilarity.sum())].sum())\n",
    "        )\n",
    "        return norm_diss\n",
    "\n",
    "    def D_vr(self, k, r):\n",
    "        G = self.G\n",
    "        v = self.v\n",
    "        norm_diss = self.norm_diss\n",
    "        n = self.n\n",
    "        return sum(\n",
    "            [\n",
    "                np.power(v[r, i], n) * norm_diss[k, G[r, i]]\n",
    "                for i in range(v.shape[1])\n",
    "            ]\n",
    "        )\n",
    "\n",
    "    def delta_V(self, k, s):\n",
    "        h_matrix = self.h_matrix\n",
    "        C = self.C\n",
    "        return sum([h_matrix[s, r] * self.D_vr(k, r) for r in range(C)])\n",
    "\n",
    "    def get_quantization_error(self):\n",
    "        N = self.num_elements\n",
    "        bmus = self.best_matching_units\n",
    "        matching_sum = sum([self.D_vr(k, bmus[k]) for k in range(N)])\n",
    "        return matching_sum / N\n",
    "\n",
    "    def calculate_loss(self):\n",
    "        N = self.num_elements\n",
    "        best_matching_units = self.best_matching_units\n",
    "        return np.sum(\n",
    "            [self.delta_V(k, best_matching_units[k]) for k in range(N)]\n",
    "        )\n",
    "\n",
    "    def get_coordinates(self, node):\n",
    "        node_x = int(node / self.y)\n",
    "        node_y = node % self.y\n",
    "        return np.array([node_x, node_y])\n",
    "\n",
    "    def get_topographical_error(self, bmus, sbmus):\n",
    "        N = self.num_elements\n",
    "\n",
    "        STE = np.sum([self.delta[bmus[k], sbmus[k]] == 1 for k in range(N)])\n",
    "\n",
    "        return STE / N\n",
    "\n",
    "    def update_partitions(self):\n",
    "        C = self.C\n",
    "        N = self.num_elements\n",
    "        P = [[] for i in range(C)]\n",
    "        best_matching_units = np.zeros(N)\n",
    "        second_bmus = np.zeros(N)\n",
    "\n",
    "        for k in range(N):\n",
    "            deltas = np.array([self.delta_V(k, s) for s in range(C)])\n",
    "            k_cluster = np.argmin(deltas)\n",
    "            best_matching_units[k] = k_cluster\n",
    "            second_bmus[k] = np.argsort(deltas)[1]\n",
    "            P[k_cluster].append(k)\n",
    "\n",
    "        self.P = P\n",
    "        self.best_matching_units = best_matching_units.astype(int)\n",
    "        self.second_bmus = second_bmus.astype(int)\n",
    "\n",
    "    def update_prototypes(self):\n",
    "        C = self.C\n",
    "        norm_diss = self.norm_diss\n",
    "        N = self.num_elements\n",
    "        q = self.q\n",
    "        h_t = self.h_matrix\n",
    "        best_matching_units = self.best_matching_units\n",
    "\n",
    "        for r in range(C):\n",
    "            g = []\n",
    "            for h in range(N):\n",
    "                hfec = np.array([h_t[x, r] for x in best_matching_units])\n",
    "                dist = norm_diss[h]\n",
    "                # val = (dist * hfec).sum()\n",
    "                val = np.dot(hfec, dist)\n",
    "\n",
    "                g.append((h, val))\n",
    "            g = sorted(g, key=lambda x: x[1])[:q]\n",
    "\n",
    "            self.G[r] = np.array([pair[0] for pair in g])\n",
    "\n",
    "    def update_weights(self):\n",
    "        v_t = self.v.copy()\n",
    "        best_matching_units = self.best_matching_units\n",
    "        h_t = self.h_matrix\n",
    "        norm_diss = self.norm_diss\n",
    "        N = self.num_elements\n",
    "        G = self.G\n",
    "        n = self.n\n",
    "\n",
    "        for r in range(v_t.shape[0]):  # for all lines of v\n",
    "            for e_idx in range(v_t.shape[1]):  # for all columns of v\n",
    "                base_sum = []\n",
    "\n",
    "                upper = sum(\n",
    "                    [\n",
    "                        h_t[best_matching_units[k], r]\n",
    "                        * norm_diss[k, G[r, e_idx]]\n",
    "                        for k in range(N)\n",
    "                    ]\n",
    "                )\n",
    "\n",
    "                for element in G[r]:\n",
    "                    lower = np.sum(\n",
    "                        [\n",
    "                            h_t[best_matching_units[k], r]\n",
    "                            * norm_diss[k, element]\n",
    "                            for k in range(N)\n",
    "                        ]\n",
    "                    )\n",
    "\n",
    "                    base_sum.append(pow(upper / lower, (1 / (n - 1))))\n",
    "\n",
    "                self.v[r][e_idx] = 1 / sum(base_sum)\n",
    "\n",
    "    def fit(self, df):\n",
    "\n",
    "        X = df.values\n",
    "        self.num_elements = X.shape[0]\n",
    "        self.norm_diss = self.build_norm_dmatrix(df)\n",
    "        self.loss = []\n",
    "\n",
    "        self.G = self.initialize_prototypes(X)\n",
    "        self.v = self.init_weight_matrix()\n",
    "\n",
    "        self.h_matrix = self.build_h_matrix(self.sigma)\n",
    "\n",
    "        self.update_partitions()\n",
    "\n",
    "        self.loss.append(self.calculate_loss())\n",
    "\n",
    "        self.metrics = {\n",
    "            \"norm_diss\": self.norm_diss,\n",
    "            \"best_run\": {\n",
    "                \"t\": 0,\n",
    "                \"P\": self.P,\n",
    "                \"G\": self.G,\n",
    "                \"v\": self.v,\n",
    "                \"h_matrix\": self.h_matrix,\n",
    "                \"best_matching_units\": self.best_matching_units,\n",
    "                \"loss\": self.loss[0],\n",
    "            },\n",
    "            \"loss\": self.loss,\n",
    "        }\n",
    "\n",
    "        for t in tqdm(range(1, self.max_iter + 1)):\n",
    "            gc.collect()\n",
    "\n",
    "            self.sigma = self.calc_sigma(t)\n",
    "\n",
    "            self.h_matrix = self.build_h_matrix(self.sigma)\n",
    "\n",
    "            self.update_prototypes()\n",
    "\n",
    "            self.update_weights()\n",
    "\n",
    "            self.update_partitions()\n",
    "\n",
    "            iter_loss = self.calculate_loss()\n",
    "\n",
    "            if iter_loss < self.metrics[\"best_run\"][\"loss\"]:\n",
    "                self.metrics[\"best_run\"] = {\n",
    "                    \"t\": t,\n",
    "                    \"P\": self.P,\n",
    "                    \"G\": self.G,\n",
    "                    \"v\": self.v,\n",
    "                    \"h_matrix\": self.h_matrix,\n",
    "                    \"best_matching_units\": self.best_matching_units,\n",
    "                    \"second_bmus\": self.second_bmus,\n",
    "                    \"topo_error\": None,\n",
    "                    \"quant_error\": self.get_quantization_error(),\n",
    "                    \"loss\": iter_loss,\n",
    "                }\n",
    "\n",
    "            self.loss.append(iter_loss)\n",
    "\n",
    "        best_topo_error = self.get_topographical_error(\n",
    "            self.metrics[\"best_run\"][\"best_matching_units\"],\n",
    "            self.metrics[\"best_run\"][\"second_bmus\"],\n",
    "        )\n",
    "\n",
    "        self.metrics[\"best_run\"][\"topo_error\"] = best_topo_error"
   ]
  },
  {
   "cell_type": "code",
   "execution_count": 4,
   "id": "cf6a1e59",
   "metadata": {},
   "outputs": [],
   "source": [
    "columns =[ \n",
    "'Profile_mean',\n",
    "'Profile_stdev',\n",
    "'Profile_skewness',\n",
    "'Profile_kurtosis',\n",
    "'DM_mean',\n",
    "'DM_stdev',\n",
    "'DM_skewness',\n",
    "'DM_kurtosis',\n",
    "'label'\n",
    "]"
   ]
  },
  {
   "cell_type": "code",
   "execution_count": 5,
   "id": "273f1fdd",
   "metadata": {},
   "outputs": [],
   "source": [
    "df_base = pd.read_csv('HTRU2/HTRU_2.csv',header=None,names=columns)\n",
    "X = np.array(df_base.drop(columns='label'))\n",
    "y = np.array(df_base.label)\n",
    "X_train, _, y_train, _ = train_test_split(X, y, train_size=0.08, random_state=42,shuffle=True,stratify=y)"
   ]
  },
  {
   "cell_type": "code",
   "execution_count": 6,
   "id": "8e301177",
   "metadata": {},
   "outputs": [],
   "source": [
    "df = pd.DataFrame(X_train)"
   ]
  },
  {
   "cell_type": "code",
   "execution_count": 7,
   "id": "ecbfec4a",
   "metadata": {},
   "outputs": [
    {
     "data": {
      "text/html": [
       "<div>\n",
       "<style scoped>\n",
       "    .dataframe tbody tr th:only-of-type {\n",
       "        vertical-align: middle;\n",
       "    }\n",
       "\n",
       "    .dataframe tbody tr th {\n",
       "        vertical-align: top;\n",
       "    }\n",
       "\n",
       "    .dataframe thead th {\n",
       "        text-align: right;\n",
       "    }\n",
       "</style>\n",
       "<table border=\"1\" class=\"dataframe\">\n",
       "  <thead>\n",
       "    <tr style=\"text-align: right;\">\n",
       "      <th></th>\n",
       "      <th>0</th>\n",
       "      <th>1</th>\n",
       "      <th>2</th>\n",
       "      <th>3</th>\n",
       "      <th>4</th>\n",
       "      <th>5</th>\n",
       "      <th>6</th>\n",
       "      <th>7</th>\n",
       "    </tr>\n",
       "  </thead>\n",
       "  <tbody>\n",
       "    <tr>\n",
       "      <th>0</th>\n",
       "      <td>132.976562</td>\n",
       "      <td>54.247475</td>\n",
       "      <td>-0.146548</td>\n",
       "      <td>-0.455166</td>\n",
       "      <td>1.692308</td>\n",
       "      <td>11.930778</td>\n",
       "      <td>12.484056</td>\n",
       "      <td>206.772447</td>\n",
       "    </tr>\n",
       "    <tr>\n",
       "      <th>1</th>\n",
       "      <td>115.226562</td>\n",
       "      <td>52.921701</td>\n",
       "      <td>0.207267</td>\n",
       "      <td>-0.387586</td>\n",
       "      <td>16.710702</td>\n",
       "      <td>51.156442</td>\n",
       "      <td>2.932071</td>\n",
       "      <td>7.124125</td>\n",
       "    </tr>\n",
       "    <tr>\n",
       "      <th>2</th>\n",
       "      <td>125.437500</td>\n",
       "      <td>55.221818</td>\n",
       "      <td>-0.306045</td>\n",
       "      <td>-0.361282</td>\n",
       "      <td>4.894649</td>\n",
       "      <td>30.722960</td>\n",
       "      <td>6.481707</td>\n",
       "      <td>41.779988</td>\n",
       "    </tr>\n",
       "    <tr>\n",
       "      <th>3</th>\n",
       "      <td>111.460938</td>\n",
       "      <td>43.919832</td>\n",
       "      <td>0.241593</td>\n",
       "      <td>0.504810</td>\n",
       "      <td>1.607023</td>\n",
       "      <td>16.437662</td>\n",
       "      <td>11.953114</td>\n",
       "      <td>150.996170</td>\n",
       "    </tr>\n",
       "    <tr>\n",
       "      <th>4</th>\n",
       "      <td>111.992188</td>\n",
       "      <td>49.748979</td>\n",
       "      <td>0.209537</td>\n",
       "      <td>-0.003350</td>\n",
       "      <td>4.117057</td>\n",
       "      <td>20.901857</td>\n",
       "      <td>6.353148</td>\n",
       "      <td>47.544228</td>\n",
       "    </tr>\n",
       "    <tr>\n",
       "      <th>...</th>\n",
       "      <td>...</td>\n",
       "      <td>...</td>\n",
       "      <td>...</td>\n",
       "      <td>...</td>\n",
       "      <td>...</td>\n",
       "      <td>...</td>\n",
       "      <td>...</td>\n",
       "      <td>...</td>\n",
       "    </tr>\n",
       "    <tr>\n",
       "      <th>1426</th>\n",
       "      <td>114.375000</td>\n",
       "      <td>52.937906</td>\n",
       "      <td>0.244353</td>\n",
       "      <td>-0.509420</td>\n",
       "      <td>0.739130</td>\n",
       "      <td>9.919349</td>\n",
       "      <td>18.988651</td>\n",
       "      <td>420.481582</td>\n",
       "    </tr>\n",
       "    <tr>\n",
       "      <th>1427</th>\n",
       "      <td>82.070312</td>\n",
       "      <td>38.530261</td>\n",
       "      <td>0.860951</td>\n",
       "      <td>2.396809</td>\n",
       "      <td>0.594482</td>\n",
       "      <td>9.956608</td>\n",
       "      <td>20.702696</td>\n",
       "      <td>469.692706</td>\n",
       "    </tr>\n",
       "    <tr>\n",
       "      <th>1428</th>\n",
       "      <td>140.437500</td>\n",
       "      <td>46.453059</td>\n",
       "      <td>0.121573</td>\n",
       "      <td>0.030169</td>\n",
       "      <td>1.512542</td>\n",
       "      <td>13.934354</td>\n",
       "      <td>12.659416</td>\n",
       "      <td>182.183402</td>\n",
       "    </tr>\n",
       "    <tr>\n",
       "      <th>1429</th>\n",
       "      <td>113.031250</td>\n",
       "      <td>44.406492</td>\n",
       "      <td>0.449007</td>\n",
       "      <td>0.491883</td>\n",
       "      <td>3.434783</td>\n",
       "      <td>17.419137</td>\n",
       "      <td>7.372283</td>\n",
       "      <td>70.181238</td>\n",
       "    </tr>\n",
       "    <tr>\n",
       "      <th>1430</th>\n",
       "      <td>94.773438</td>\n",
       "      <td>36.377623</td>\n",
       "      <td>0.667411</td>\n",
       "      <td>2.099899</td>\n",
       "      <td>1.107860</td>\n",
       "      <td>12.950481</td>\n",
       "      <td>13.461805</td>\n",
       "      <td>199.449006</td>\n",
       "    </tr>\n",
       "  </tbody>\n",
       "</table>\n",
       "<p>1431 rows × 8 columns</p>\n",
       "</div>"
      ],
      "text/plain": [
       "               0          1         2         3          4          5  \\\n",
       "0     132.976562  54.247475 -0.146548 -0.455166   1.692308  11.930778   \n",
       "1     115.226562  52.921701  0.207267 -0.387586  16.710702  51.156442   \n",
       "2     125.437500  55.221818 -0.306045 -0.361282   4.894649  30.722960   \n",
       "3     111.460938  43.919832  0.241593  0.504810   1.607023  16.437662   \n",
       "4     111.992188  49.748979  0.209537 -0.003350   4.117057  20.901857   \n",
       "...          ...        ...       ...       ...        ...        ...   \n",
       "1426  114.375000  52.937906  0.244353 -0.509420   0.739130   9.919349   \n",
       "1427   82.070312  38.530261  0.860951  2.396809   0.594482   9.956608   \n",
       "1428  140.437500  46.453059  0.121573  0.030169   1.512542  13.934354   \n",
       "1429  113.031250  44.406492  0.449007  0.491883   3.434783  17.419137   \n",
       "1430   94.773438  36.377623  0.667411  2.099899   1.107860  12.950481   \n",
       "\n",
       "              6           7  \n",
       "0     12.484056  206.772447  \n",
       "1      2.932071    7.124125  \n",
       "2      6.481707   41.779988  \n",
       "3     11.953114  150.996170  \n",
       "4      6.353148   47.544228  \n",
       "...         ...         ...  \n",
       "1426  18.988651  420.481582  \n",
       "1427  20.702696  469.692706  \n",
       "1428  12.659416  182.183402  \n",
       "1429   7.372283   70.181238  \n",
       "1430  13.461805  199.449006  \n",
       "\n",
       "[1431 rows x 8 columns]"
      ]
     },
     "execution_count": 7,
     "metadata": {},
     "output_type": "execute_result"
    }
   ],
   "source": [
    "df"
   ]
  },
  {
   "cell_type": "code",
   "execution_count": 8,
   "id": "a36ff02b",
   "metadata": {},
   "outputs": [
    {
     "data": {
      "text/plain": [
       "37.82856063875548"
      ]
     },
     "execution_count": 8,
     "metadata": {},
     "output_type": "execute_result"
    }
   ],
   "source": [
    "np.sqrt(df.shape[0])"
   ]
  },
  {
   "cell_type": "code",
   "execution_count": 9,
   "id": "9ec40b02",
   "metadata": {},
   "outputs": [
    {
     "name": "stdout",
     "output_type": "stream",
     "text": [
      "Run # 0\n"
     ]
    },
    {
     "data": {
      "application/vnd.jupyter.widget-view+json": {
       "model_id": "d1eb41f07f6045a8a12277c53bacd6e0",
       "version_major": 2,
       "version_minor": 0
      },
      "text/plain": [
       "  0%|          | 0/50 [00:00<?, ?it/s]"
      ]
     },
     "metadata": {},
     "output_type": "display_data"
    },
    {
     "name": "stderr",
     "output_type": "stream",
     "text": [
      "/tmp/ipykernel_1067087/1879201303.py:26: RuntimeWarning: invalid value encountered in long_scalars\n",
      "  ((cm[i,j]*cm[i,j])/(nidot[i]*ndotj[j]))/\n",
      "/tmp/ipykernel_1067087/1879201303.py:27: RuntimeWarning: invalid value encountered in long_scalars\n",
      "  (cm[i,j]/nidot[i] + cm[i,j]/ndotj[j])\n",
      "/tmp/ipykernel_1067087/1879201303.py:26: RuntimeWarning: invalid value encountered in double_scalars\n",
      "  ((cm[i,j]*cm[i,j])/(nidot[i]*ndotj[j]))/\n"
     ]
    },
    {
     "name": "stdout",
     "output_type": "stream",
     "text": [
      "Run # 1\n"
     ]
    },
    {
     "data": {
      "application/vnd.jupyter.widget-view+json": {
       "model_id": "a8d807c4ed6a4e07b102505aeaaa171f",
       "version_major": 2,
       "version_minor": 0
      },
      "text/plain": [
       "  0%|          | 0/50 [00:00<?, ?it/s]"
      ]
     },
     "metadata": {},
     "output_type": "display_data"
    },
    {
     "name": "stdout",
     "output_type": "stream",
     "text": [
      "Run # 2\n"
     ]
    },
    {
     "data": {
      "application/vnd.jupyter.widget-view+json": {
       "model_id": "f8cf5491eb624227b31dd92cbc268ed6",
       "version_major": 2,
       "version_minor": 0
      },
      "text/plain": [
       "  0%|          | 0/50 [00:00<?, ?it/s]"
      ]
     },
     "metadata": {},
     "output_type": "display_data"
    },
    {
     "name": "stdout",
     "output_type": "stream",
     "text": [
      "Run # 3\n"
     ]
    },
    {
     "data": {
      "application/vnd.jupyter.widget-view+json": {
       "model_id": "22723364fd534e46996a7ec48b84df3b",
       "version_major": 2,
       "version_minor": 0
      },
      "text/plain": [
       "  0%|          | 0/50 [00:00<?, ?it/s]"
      ]
     },
     "metadata": {},
     "output_type": "display_data"
    },
    {
     "name": "stdout",
     "output_type": "stream",
     "text": [
      "Run # 4\n"
     ]
    },
    {
     "data": {
      "application/vnd.jupyter.widget-view+json": {
       "model_id": "651c7d4111444a69997edcd285b17a98",
       "version_major": 2,
       "version_minor": 0
      },
      "text/plain": [
       "  0%|          | 0/50 [00:00<?, ?it/s]"
      ]
     },
     "metadata": {},
     "output_type": "display_data"
    },
    {
     "name": "stdout",
     "output_type": "stream",
     "text": [
      "Run # 5\n"
     ]
    },
    {
     "data": {
      "application/vnd.jupyter.widget-view+json": {
       "model_id": "efe601760a1d469d8fef30079ccce2df",
       "version_major": 2,
       "version_minor": 0
      },
      "text/plain": [
       "  0%|          | 0/50 [00:00<?, ?it/s]"
      ]
     },
     "metadata": {},
     "output_type": "display_data"
    },
    {
     "name": "stdout",
     "output_type": "stream",
     "text": [
      "Run # 6\n"
     ]
    },
    {
     "data": {
      "application/vnd.jupyter.widget-view+json": {
       "model_id": "43e8f5ea10404946b2b5572e37649437",
       "version_major": 2,
       "version_minor": 0
      },
      "text/plain": [
       "  0%|          | 0/50 [00:00<?, ?it/s]"
      ]
     },
     "metadata": {},
     "output_type": "display_data"
    },
    {
     "name": "stdout",
     "output_type": "stream",
     "text": [
      "Run # 7\n"
     ]
    },
    {
     "data": {
      "application/vnd.jupyter.widget-view+json": {
       "model_id": "c0f8b3e926854291ba157ef8e034ef28",
       "version_major": 2,
       "version_minor": 0
      },
      "text/plain": [
       "  0%|          | 0/50 [00:00<?, ?it/s]"
      ]
     },
     "metadata": {},
     "output_type": "display_data"
    },
    {
     "name": "stdout",
     "output_type": "stream",
     "text": [
      "Run # 8\n"
     ]
    },
    {
     "data": {
      "application/vnd.jupyter.widget-view+json": {
       "model_id": "e408f16121074866b6373b6c87c48d0c",
       "version_major": 2,
       "version_minor": 0
      },
      "text/plain": [
       "  0%|          | 0/50 [00:00<?, ?it/s]"
      ]
     },
     "metadata": {},
     "output_type": "display_data"
    },
    {
     "name": "stdout",
     "output_type": "stream",
     "text": [
      "Run # 9\n"
     ]
    },
    {
     "data": {
      "application/vnd.jupyter.widget-view+json": {
       "model_id": "c9ec3708a80b466e93b099f12b1d3862",
       "version_major": 2,
       "version_minor": 0
      },
      "text/plain": [
       "  0%|          | 0/50 [00:00<?, ?it/s]"
      ]
     },
     "metadata": {},
     "output_type": "display_data"
    },
    {
     "name": "stdout",
     "output_type": "stream",
     "text": [
      "Run # 10\n"
     ]
    },
    {
     "data": {
      "application/vnd.jupyter.widget-view+json": {
       "model_id": "db08ff6757374197876e88927edf27a8",
       "version_major": 2,
       "version_minor": 0
      },
      "text/plain": [
       "  0%|          | 0/50 [00:00<?, ?it/s]"
      ]
     },
     "metadata": {},
     "output_type": "display_data"
    },
    {
     "name": "stdout",
     "output_type": "stream",
     "text": [
      "Run # 11\n"
     ]
    },
    {
     "data": {
      "application/vnd.jupyter.widget-view+json": {
       "model_id": "544b12a748764680a667064aa0b61723",
       "version_major": 2,
       "version_minor": 0
      },
      "text/plain": [
       "  0%|          | 0/50 [00:00<?, ?it/s]"
      ]
     },
     "metadata": {},
     "output_type": "display_data"
    },
    {
     "name": "stdout",
     "output_type": "stream",
     "text": [
      "Run # 12\n"
     ]
    },
    {
     "data": {
      "application/vnd.jupyter.widget-view+json": {
       "model_id": "3a47a839c337496e816946cf643cc00e",
       "version_major": 2,
       "version_minor": 0
      },
      "text/plain": [
       "  0%|          | 0/50 [00:00<?, ?it/s]"
      ]
     },
     "metadata": {},
     "output_type": "display_data"
    },
    {
     "name": "stdout",
     "output_type": "stream",
     "text": [
      "Run # 13\n"
     ]
    },
    {
     "data": {
      "application/vnd.jupyter.widget-view+json": {
       "model_id": "9daea2dcc25f4295b6e61b7d4897ea5f",
       "version_major": 2,
       "version_minor": 0
      },
      "text/plain": [
       "  0%|          | 0/50 [00:00<?, ?it/s]"
      ]
     },
     "metadata": {},
     "output_type": "display_data"
    },
    {
     "name": "stdout",
     "output_type": "stream",
     "text": [
      "Run # 14\n"
     ]
    },
    {
     "data": {
      "application/vnd.jupyter.widget-view+json": {
       "model_id": "a85a4ead511f4b82b145e1c63a58b3b4",
       "version_major": 2,
       "version_minor": 0
      },
      "text/plain": [
       "  0%|          | 0/50 [00:00<?, ?it/s]"
      ]
     },
     "metadata": {},
     "output_type": "display_data"
    },
    {
     "name": "stdout",
     "output_type": "stream",
     "text": [
      "Run # 15\n"
     ]
    },
    {
     "data": {
      "application/vnd.jupyter.widget-view+json": {
       "model_id": "76956f8fad8c4c2cae42ed625f00abc6",
       "version_major": 2,
       "version_minor": 0
      },
      "text/plain": [
       "  0%|          | 0/50 [00:00<?, ?it/s]"
      ]
     },
     "metadata": {},
     "output_type": "display_data"
    },
    {
     "name": "stdout",
     "output_type": "stream",
     "text": [
      "Run # 16\n"
     ]
    },
    {
     "data": {
      "application/vnd.jupyter.widget-view+json": {
       "model_id": "7be556a0a7ac47f288d0444602c9e350",
       "version_major": 2,
       "version_minor": 0
      },
      "text/plain": [
       "  0%|          | 0/50 [00:00<?, ?it/s]"
      ]
     },
     "metadata": {},
     "output_type": "display_data"
    },
    {
     "name": "stdout",
     "output_type": "stream",
     "text": [
      "Run # 17\n"
     ]
    },
    {
     "data": {
      "application/vnd.jupyter.widget-view+json": {
       "model_id": "dbb3e459dfda42208b4c26e29f6c32a6",
       "version_major": 2,
       "version_minor": 0
      },
      "text/plain": [
       "  0%|          | 0/50 [00:00<?, ?it/s]"
      ]
     },
     "metadata": {},
     "output_type": "display_data"
    },
    {
     "name": "stdout",
     "output_type": "stream",
     "text": [
      "Run # 18\n"
     ]
    },
    {
     "data": {
      "application/vnd.jupyter.widget-view+json": {
       "model_id": "104afffd22ab434d82336da1ae751fa4",
       "version_major": 2,
       "version_minor": 0
      },
      "text/plain": [
       "  0%|          | 0/50 [00:00<?, ?it/s]"
      ]
     },
     "metadata": {},
     "output_type": "display_data"
    },
    {
     "name": "stdout",
     "output_type": "stream",
     "text": [
      "Run # 19\n"
     ]
    },
    {
     "data": {
      "application/vnd.jupyter.widget-view+json": {
       "model_id": "9be8a3588c10445982e52554f9a2620f",
       "version_major": 2,
       "version_minor": 0
      },
      "text/plain": [
       "  0%|          | 0/50 [00:00<?, ?it/s]"
      ]
     },
     "metadata": {},
     "output_type": "display_data"
    },
    {
     "name": "stdout",
     "output_type": "stream",
     "text": [
      "Run # 20\n"
     ]
    },
    {
     "data": {
      "application/vnd.jupyter.widget-view+json": {
       "model_id": "3d32da38d7be41b18592ef9a6ae06a56",
       "version_major": 2,
       "version_minor": 0
      },
      "text/plain": [
       "  0%|          | 0/50 [00:00<?, ?it/s]"
      ]
     },
     "metadata": {},
     "output_type": "display_data"
    },
    {
     "name": "stdout",
     "output_type": "stream",
     "text": [
      "Run # 21\n"
     ]
    },
    {
     "data": {
      "application/vnd.jupyter.widget-view+json": {
       "model_id": "c7f92e7600944eb58bfa084a13f80902",
       "version_major": 2,
       "version_minor": 0
      },
      "text/plain": [
       "  0%|          | 0/50 [00:00<?, ?it/s]"
      ]
     },
     "metadata": {},
     "output_type": "display_data"
    },
    {
     "name": "stdout",
     "output_type": "stream",
     "text": [
      "Run # 22\n"
     ]
    },
    {
     "data": {
      "application/vnd.jupyter.widget-view+json": {
       "model_id": "3f05792ae69d4c919e3cd9d4bead74a9",
       "version_major": 2,
       "version_minor": 0
      },
      "text/plain": [
       "  0%|          | 0/50 [00:00<?, ?it/s]"
      ]
     },
     "metadata": {},
     "output_type": "display_data"
    },
    {
     "name": "stdout",
     "output_type": "stream",
     "text": [
      "Run # 23\n"
     ]
    },
    {
     "data": {
      "application/vnd.jupyter.widget-view+json": {
       "model_id": "be6b7db2f1a44bee9d6d61df10567272",
       "version_major": 2,
       "version_minor": 0
      },
      "text/plain": [
       "  0%|          | 0/50 [00:00<?, ?it/s]"
      ]
     },
     "metadata": {},
     "output_type": "display_data"
    },
    {
     "name": "stdout",
     "output_type": "stream",
     "text": [
      "Run # 24\n"
     ]
    },
    {
     "data": {
      "application/vnd.jupyter.widget-view+json": {
       "model_id": "7abf9bb6324f4ad591731c549e4fbf10",
       "version_major": 2,
       "version_minor": 0
      },
      "text/plain": [
       "  0%|          | 0/50 [00:00<?, ?it/s]"
      ]
     },
     "metadata": {},
     "output_type": "display_data"
    },
    {
     "name": "stdout",
     "output_type": "stream",
     "text": [
      "Run # 25\n"
     ]
    },
    {
     "data": {
      "application/vnd.jupyter.widget-view+json": {
       "model_id": "82764d69fcb4459cb9cbdccc539261cc",
       "version_major": 2,
       "version_minor": 0
      },
      "text/plain": [
       "  0%|          | 0/50 [00:00<?, ?it/s]"
      ]
     },
     "metadata": {},
     "output_type": "display_data"
    },
    {
     "name": "stdout",
     "output_type": "stream",
     "text": [
      "Run # 26\n"
     ]
    },
    {
     "data": {
      "application/vnd.jupyter.widget-view+json": {
       "model_id": "0c7443044c0e45399702ef457296a04c",
       "version_major": 2,
       "version_minor": 0
      },
      "text/plain": [
       "  0%|          | 0/50 [00:00<?, ?it/s]"
      ]
     },
     "metadata": {},
     "output_type": "display_data"
    },
    {
     "name": "stdout",
     "output_type": "stream",
     "text": [
      "Run # 27\n"
     ]
    },
    {
     "data": {
      "application/vnd.jupyter.widget-view+json": {
       "model_id": "38bdb855d513474fb65d1b385e43c794",
       "version_major": 2,
       "version_minor": 0
      },
      "text/plain": [
       "  0%|          | 0/50 [00:00<?, ?it/s]"
      ]
     },
     "metadata": {},
     "output_type": "display_data"
    },
    {
     "name": "stdout",
     "output_type": "stream",
     "text": [
      "Run # 28\n"
     ]
    },
    {
     "data": {
      "application/vnd.jupyter.widget-view+json": {
       "model_id": "48686d0ef0744f89aea51f2063f34614",
       "version_major": 2,
       "version_minor": 0
      },
      "text/plain": [
       "  0%|          | 0/50 [00:00<?, ?it/s]"
      ]
     },
     "metadata": {},
     "output_type": "display_data"
    },
    {
     "name": "stdout",
     "output_type": "stream",
     "text": [
      "Run # 29\n"
     ]
    },
    {
     "data": {
      "application/vnd.jupyter.widget-view+json": {
       "model_id": "43abfc18ea144303a437b1b2db58fd95",
       "version_major": 2,
       "version_minor": 0
      },
      "text/plain": [
       "  0%|          | 0/50 [00:00<?, ?it/s]"
      ]
     },
     "metadata": {},
     "output_type": "display_data"
    },
    {
     "name": "stdout",
     "output_type": "stream",
     "text": [
      "Run # 30\n"
     ]
    },
    {
     "data": {
      "application/vnd.jupyter.widget-view+json": {
       "model_id": "be9814a3fc864b90b0c193c7d567e15f",
       "version_major": 2,
       "version_minor": 0
      },
      "text/plain": [
       "  0%|          | 0/50 [00:00<?, ?it/s]"
      ]
     },
     "metadata": {},
     "output_type": "display_data"
    },
    {
     "name": "stdout",
     "output_type": "stream",
     "text": [
      "Run # 31\n"
     ]
    },
    {
     "data": {
      "application/vnd.jupyter.widget-view+json": {
       "model_id": "1755678eff9743f6bc96c71205ddd31f",
       "version_major": 2,
       "version_minor": 0
      },
      "text/plain": [
       "  0%|          | 0/50 [00:00<?, ?it/s]"
      ]
     },
     "metadata": {},
     "output_type": "display_data"
    },
    {
     "name": "stdout",
     "output_type": "stream",
     "text": [
      "Run # 32\n"
     ]
    },
    {
     "data": {
      "application/vnd.jupyter.widget-view+json": {
       "model_id": "e6665188df4640dab0fe50af099afbc6",
       "version_major": 2,
       "version_minor": 0
      },
      "text/plain": [
       "  0%|          | 0/50 [00:00<?, ?it/s]"
      ]
     },
     "metadata": {},
     "output_type": "display_data"
    },
    {
     "name": "stdout",
     "output_type": "stream",
     "text": [
      "Run # 33\n"
     ]
    },
    {
     "data": {
      "application/vnd.jupyter.widget-view+json": {
       "model_id": "dc0e04b0259649f6b4d0b5ee7f6d3389",
       "version_major": 2,
       "version_minor": 0
      },
      "text/plain": [
       "  0%|          | 0/50 [00:00<?, ?it/s]"
      ]
     },
     "metadata": {},
     "output_type": "display_data"
    },
    {
     "name": "stdout",
     "output_type": "stream",
     "text": [
      "Run # 34\n"
     ]
    },
    {
     "data": {
      "application/vnd.jupyter.widget-view+json": {
       "model_id": "cad7d61c232542299073c5a904740ea1",
       "version_major": 2,
       "version_minor": 0
      },
      "text/plain": [
       "  0%|          | 0/50 [00:00<?, ?it/s]"
      ]
     },
     "metadata": {},
     "output_type": "display_data"
    },
    {
     "name": "stdout",
     "output_type": "stream",
     "text": [
      "Run # 35\n"
     ]
    },
    {
     "data": {
      "application/vnd.jupyter.widget-view+json": {
       "model_id": "96fcd829acaf4fc9a2980a0b4f20f5fb",
       "version_major": 2,
       "version_minor": 0
      },
      "text/plain": [
       "  0%|          | 0/50 [00:00<?, ?it/s]"
      ]
     },
     "metadata": {},
     "output_type": "display_data"
    },
    {
     "name": "stdout",
     "output_type": "stream",
     "text": [
      "Run # 36\n"
     ]
    },
    {
     "data": {
      "application/vnd.jupyter.widget-view+json": {
       "model_id": "791b7ddf42f64a38a0a1d5a918d6fccf",
       "version_major": 2,
       "version_minor": 0
      },
      "text/plain": [
       "  0%|          | 0/50 [00:00<?, ?it/s]"
      ]
     },
     "metadata": {},
     "output_type": "display_data"
    },
    {
     "name": "stdout",
     "output_type": "stream",
     "text": [
      "Run # 37\n"
     ]
    },
    {
     "data": {
      "application/vnd.jupyter.widget-view+json": {
       "model_id": "fbf0dac80f1043d7a5beb28deac663ad",
       "version_major": 2,
       "version_minor": 0
      },
      "text/plain": [
       "  0%|          | 0/50 [00:00<?, ?it/s]"
      ]
     },
     "metadata": {},
     "output_type": "display_data"
    },
    {
     "name": "stdout",
     "output_type": "stream",
     "text": [
      "Run # 38\n"
     ]
    },
    {
     "data": {
      "application/vnd.jupyter.widget-view+json": {
       "model_id": "44c0560780f9419c9c49e10d5e90e9c3",
       "version_major": 2,
       "version_minor": 0
      },
      "text/plain": [
       "  0%|          | 0/50 [00:00<?, ?it/s]"
      ]
     },
     "metadata": {},
     "output_type": "display_data"
    },
    {
     "name": "stdout",
     "output_type": "stream",
     "text": [
      "Run # 39\n"
     ]
    },
    {
     "data": {
      "application/vnd.jupyter.widget-view+json": {
       "model_id": "22622d29df8b4e8a96a984df84296b23",
       "version_major": 2,
       "version_minor": 0
      },
      "text/plain": [
       "  0%|          | 0/50 [00:00<?, ?it/s]"
      ]
     },
     "metadata": {},
     "output_type": "display_data"
    },
    {
     "name": "stdout",
     "output_type": "stream",
     "text": [
      "Run # 40\n"
     ]
    },
    {
     "data": {
      "application/vnd.jupyter.widget-view+json": {
       "model_id": "c44951c640cc47f89100ab9cfbd93fc0",
       "version_major": 2,
       "version_minor": 0
      },
      "text/plain": [
       "  0%|          | 0/50 [00:00<?, ?it/s]"
      ]
     },
     "metadata": {},
     "output_type": "display_data"
    },
    {
     "name": "stdout",
     "output_type": "stream",
     "text": [
      "Run # 41\n"
     ]
    },
    {
     "data": {
      "application/vnd.jupyter.widget-view+json": {
       "model_id": "cd5997027f0246ed80d290cdec4e0d03",
       "version_major": 2,
       "version_minor": 0
      },
      "text/plain": [
       "  0%|          | 0/50 [00:00<?, ?it/s]"
      ]
     },
     "metadata": {},
     "output_type": "display_data"
    },
    {
     "name": "stdout",
     "output_type": "stream",
     "text": [
      "Run # 42\n"
     ]
    },
    {
     "data": {
      "application/vnd.jupyter.widget-view+json": {
       "model_id": "0de2c2cc068643ef9c24cceafa77502e",
       "version_major": 2,
       "version_minor": 0
      },
      "text/plain": [
       "  0%|          | 0/50 [00:00<?, ?it/s]"
      ]
     },
     "metadata": {},
     "output_type": "display_data"
    },
    {
     "name": "stdout",
     "output_type": "stream",
     "text": [
      "Run # 43\n"
     ]
    },
    {
     "data": {
      "application/vnd.jupyter.widget-view+json": {
       "model_id": "3a5e93fd27764dbf84a697ac7f64b9d2",
       "version_major": 2,
       "version_minor": 0
      },
      "text/plain": [
       "  0%|          | 0/50 [00:00<?, ?it/s]"
      ]
     },
     "metadata": {},
     "output_type": "display_data"
    },
    {
     "name": "stdout",
     "output_type": "stream",
     "text": [
      "Run # 44\n"
     ]
    },
    {
     "data": {
      "application/vnd.jupyter.widget-view+json": {
       "model_id": "fd8407aba4e444ba9e62e0fff1aca73e",
       "version_major": 2,
       "version_minor": 0
      },
      "text/plain": [
       "  0%|          | 0/50 [00:00<?, ?it/s]"
      ]
     },
     "metadata": {},
     "output_type": "display_data"
    },
    {
     "name": "stdout",
     "output_type": "stream",
     "text": [
      "Run # 45\n"
     ]
    },
    {
     "data": {
      "application/vnd.jupyter.widget-view+json": {
       "model_id": "671ecb1287844d1e902290aae53a4d12",
       "version_major": 2,
       "version_minor": 0
      },
      "text/plain": [
       "  0%|          | 0/50 [00:00<?, ?it/s]"
      ]
     },
     "metadata": {},
     "output_type": "display_data"
    },
    {
     "name": "stdout",
     "output_type": "stream",
     "text": [
      "Run # 46\n"
     ]
    },
    {
     "data": {
      "application/vnd.jupyter.widget-view+json": {
       "model_id": "db4aac7a61d24715a0bb297759446908",
       "version_major": 2,
       "version_minor": 0
      },
      "text/plain": [
       "  0%|          | 0/50 [00:00<?, ?it/s]"
      ]
     },
     "metadata": {},
     "output_type": "display_data"
    },
    {
     "name": "stdout",
     "output_type": "stream",
     "text": [
      "Run # 47\n"
     ]
    },
    {
     "data": {
      "application/vnd.jupyter.widget-view+json": {
       "model_id": "a1bf6da5422646aa852682e819af9ac9",
       "version_major": 2,
       "version_minor": 0
      },
      "text/plain": [
       "  0%|          | 0/50 [00:00<?, ?it/s]"
      ]
     },
     "metadata": {},
     "output_type": "display_data"
    },
    {
     "name": "stdout",
     "output_type": "stream",
     "text": [
      "Run # 48\n"
     ]
    },
    {
     "data": {
      "application/vnd.jupyter.widget-view+json": {
       "model_id": "1bb2bd97e72041ebb96bd68e2db0977b",
       "version_major": 2,
       "version_minor": 0
      },
      "text/plain": [
       "  0%|          | 0/50 [00:00<?, ?it/s]"
      ]
     },
     "metadata": {},
     "output_type": "display_data"
    },
    {
     "name": "stdout",
     "output_type": "stream",
     "text": [
      "Run # 49\n"
     ]
    },
    {
     "data": {
      "application/vnd.jupyter.widget-view+json": {
       "model_id": "9e1e3667e8214bc4aeae0c81e0109313",
       "version_major": 2,
       "version_minor": 0
      },
      "text/plain": [
       "  0%|          | 0/50 [00:00<?, ?it/s]"
      ]
     },
     "metadata": {},
     "output_type": "display_data"
    }
   ],
   "source": [
    "results = defaultdict()\n",
    "for i in range(50):\n",
    "    print('Run #',i)\n",
    "    algo = RBSOM_CWMdd(x=6,y=6,max_iter=50)\n",
    "    algo.fit(df)\n",
    "    \n",
    "    results[i] = algo.metrics['best_run']\n",
    "    \n",
    "    with open('results.pkl','wb') as f:\n",
    "        pickle.dump(results,f)\n",
    "        \n",
    "    P = algo.metrics['best_run']['P']\n",
    "    labels = pd.Series(y_train)\n",
    "    classes_count = defaultdict()\n",
    "\n",
    "    for idx,r in enumerate(P):\n",
    "        r_labels = [labels.iloc[val] for val in r]\n",
    "        positives = sum(r_labels)\n",
    "        negatives = abs(len(r_labels) - positives)\n",
    "\n",
    "        classes_count[idx] = {\n",
    "            'positives': positives,\n",
    "            'negatives': negatives\n",
    "        }\n",
    "    \n",
    "    cmdf = pd.DataFrame(classes_count).transpose()\n",
    "    cmdf.index.name = 'P'\n",
    "    contingence_matrix = np.array(cmdf)\n",
    "    \n",
    "    results[i]['ARI'] = adjusted_rand_index(contingence_matrix)\n",
    "    results[i]['f-measure'] = f_measure(contingence_matrix)\n",
    "    results[i]['cm'] = contingence_matrix\n",
    "    results[i]['df-cm'] = cmdf\n",
    "    results[i]['classes_count'] = classes_count"
   ]
  },
  {
   "cell_type": "code",
   "execution_count": 18,
   "id": "df3afa32",
   "metadata": {},
   "outputs": [],
   "source": [
    "quantization_errors = [results[key]['quant_error'] for key in results.keys()]\n",
    "topographic_errors = [results[key]['topo_error'] for key in results.keys()]\n",
    "ARI = [results[key]['ARI'] for key in results.keys()]\n",
    "fscore = [results[key]['f-measure'] for key in results.keys()]"
   ]
  },
  {
   "cell_type": "code",
   "execution_count": 25,
   "id": "f35aaa78",
   "metadata": {},
   "outputs": [
    {
     "name": "stdout",
     "output_type": "stream",
     "text": [
      "Quantization Error: 0.00030797652064947027(6.910037071535783e-08)\n",
      "Topographic Error: 0.9930957372466807(0.0005870020964360691)\n",
      "Adjusted Rand Index: 0.0635916004887815(0.00632101622019307)\n",
      "F-Score: 0.28518425976894163(0.0036040404028069026)\n"
     ]
    }
   ],
   "source": [
    "print(f\"Quantization Error: {np.mean(quantization_errors)}({np.std(quantization_errors)})\")\n",
    "print(f\"Topographic Error: {np.mean(topographic_errors)}({np.std(topographic_errors)})\")\n",
    "print(f\"Adjusted Rand Index: {np.mean(ARI)}({np.std(ARI)})\")\n",
    "print(f\"F-Score: {np.nanmean(fscore,)}({np.nanstd(fscore)})\")"
   ]
  },
  {
   "cell_type": "code",
   "execution_count": 20,
   "id": "f7bad5a7",
   "metadata": {},
   "outputs": [],
   "source": [
    "best_result = sorted(results.items(), key = lambda x: x[1]['loss'])[0]\n",
    "best_execution_t = best_result[0]\n",
    "best_result = best_result[1]"
   ]
  },
  {
   "cell_type": "code",
   "execution_count": 21,
   "id": "ad910936",
   "metadata": {
    "scrolled": false
   },
   "outputs": [
    {
     "name": "stdout",
     "output_type": "stream",
     "text": [
      "####### Resultados da melhor execução #######\n",
      "\n",
      "Quantization Error: 0.0003079666491679395\n",
      "Topographic Error: 0.9930118798043326\n",
      "Adjusted Rand Index: 0.06449460280595193\n",
      "F-Score: 0.28578493316940945\n",
      "--------------------------------------------------------------\n",
      "Protótipos (Índices dos elementos):\n",
      " [[ 190  886  203  754  684]\n",
      " [ 190  886  203  754  684]\n",
      " [ 190  886  203  754  684]\n",
      " [ 733  320  815  198  917]\n",
      " [ 733  320  815  198  917]\n",
      " [ 733  320  815  198  917]\n",
      " [ 190  886  203  754  684]\n",
      " [ 190  886  203  754  684]\n",
      " [ 190  886  203  754  684]\n",
      " [ 733  320  815  198  917]\n",
      " [ 733  320  815  198  917]\n",
      " [ 733  320  815  198  917]\n",
      " [ 190  886  203  754  684]\n",
      " [ 190  886  203  754  684]\n",
      " [ 190  886  203  754  684]\n",
      " [ 733  320  815  198  917]\n",
      " [ 733  320  815  198  917]\n",
      " [ 733  320  815  198  917]\n",
      " [1336 1007 1358  602 1231]\n",
      " [1336 1007 1358  602 1231]\n",
      " [1336 1007 1358  602 1231]\n",
      " [1291  806  936  204 1161]\n",
      " [1291  806  936  204 1161]\n",
      " [1291  806  936  204 1161]\n",
      " [1336 1007 1358  602 1231]\n",
      " [1336 1007 1358  602 1231]\n",
      " [1336 1007 1358  602 1231]\n",
      " [1291  806  936  204 1161]\n",
      " [1291  806  936  204 1161]\n",
      " [1291  806  936  204 1161]\n",
      " [1336 1007 1358  602 1231]\n",
      " [1336 1007 1358  602 1231]\n",
      " [1336 1007 1358  602 1231]\n",
      " [1291  806  936  204 1161]\n",
      " [1291  806  936  204 1161]\n",
      " [1291  806  936  204 1161]]\n",
      "--------------------------------------------------------------\n",
      "Matriz de Pesos\n",
      "[[0.20769188 0.20670287 0.20392461 0.19293799 0.18874265]\n",
      " [0.20769188 0.20670287 0.20392461 0.19293799 0.18874265]\n",
      " [0.20769188 0.20670287 0.20392461 0.19293799 0.18874265]\n",
      " [0.22358507 0.202111   0.1995724  0.18787497 0.18685657]\n",
      " [0.22358507 0.202111   0.1995724  0.18787497 0.18685657]\n",
      " [0.22358507 0.202111   0.1995724  0.18787497 0.18685657]\n",
      " [0.20769188 0.20670287 0.20392461 0.19293799 0.18874265]\n",
      " [0.20769188 0.20670287 0.20392461 0.19293799 0.18874265]\n",
      " [0.20769188 0.20670287 0.20392461 0.19293799 0.18874265]\n",
      " [0.22358507 0.202111   0.1995724  0.18787497 0.18685657]\n",
      " [0.22358507 0.202111   0.1995724  0.18787497 0.18685657]\n",
      " [0.22358507 0.202111   0.1995724  0.18787497 0.18685657]\n",
      " [0.20769188 0.20670287 0.20392461 0.19293799 0.18874265]\n",
      " [0.20769188 0.20670287 0.20392461 0.19293799 0.18874265]\n",
      " [0.20769188 0.20670287 0.20392461 0.19293799 0.18874265]\n",
      " [0.22358507 0.202111   0.1995724  0.18787497 0.18685657]\n",
      " [0.22358507 0.202111   0.1995724  0.18787497 0.18685657]\n",
      " [0.22358507 0.202111   0.1995724  0.18787497 0.18685657]\n",
      " [0.20897583 0.20560705 0.19644284 0.19537608 0.1935982 ]\n",
      " [0.20897583 0.20560705 0.19644284 0.19537608 0.1935982 ]\n",
      " [0.20897583 0.20560705 0.19644284 0.19537608 0.1935982 ]\n",
      " [0.20473905 0.20400157 0.19989998 0.19840425 0.19295516]\n",
      " [0.20473905 0.20400157 0.19989998 0.19840425 0.19295516]\n",
      " [0.20473905 0.20400157 0.19989998 0.19840425 0.19295516]\n",
      " [0.20897583 0.20560705 0.19644284 0.19537608 0.1935982 ]\n",
      " [0.20897583 0.20560705 0.19644284 0.19537608 0.1935982 ]\n",
      " [0.20897583 0.20560705 0.19644284 0.19537608 0.1935982 ]\n",
      " [0.20473905 0.20400157 0.19989998 0.19840425 0.19295516]\n",
      " [0.20473905 0.20400157 0.19989998 0.19840425 0.19295516]\n",
      " [0.20473905 0.20400157 0.19989998 0.19840425 0.19295516]\n",
      " [0.20897583 0.20560705 0.19644284 0.19537608 0.1935982 ]\n",
      " [0.20897583 0.20560705 0.19644284 0.19537608 0.1935982 ]\n",
      " [0.20897583 0.20560705 0.19644284 0.19537608 0.1935982 ]\n",
      " [0.20473905 0.20400157 0.19989998 0.19840425 0.19295516]\n",
      " [0.20473905 0.20400157 0.19989998 0.19840425 0.19295516]\n",
      " [0.20473905 0.20400157 0.19989998 0.19840425 0.19295516]]\n",
      "--------------------------------------------------------------\n",
      "Matriz de Confusão - Partição Crisp vs A Priori\n",
      "    positives  negatives\n",
      "P                       \n",
      "0          12        525\n",
      "1           0          0\n",
      "2           0          0\n",
      "3           0          0\n",
      "4           0          0\n",
      "5         116        159\n",
      "6           0          0\n",
      "7           0          0\n",
      "8           0          0\n",
      "9           0          0\n",
      "10          0          0\n",
      "11          0          0\n",
      "12          0          0\n",
      "13          0          0\n",
      "14          0          0\n",
      "15          0          0\n",
      "16          0          0\n",
      "17          0          0\n",
      "18          0          0\n",
      "19          0          0\n",
      "20          0          0\n",
      "21          0          0\n",
      "22          0          0\n",
      "23          0          0\n",
      "24          0          0\n",
      "25          0          0\n",
      "26          0          0\n",
      "27          0          0\n",
      "28          0          0\n",
      "29          0          0\n",
      "30          0        225\n",
      "31          0          0\n",
      "32          0          0\n",
      "33          0          0\n",
      "34          0          0\n",
      "35          3        391\n"
     ]
    }
   ],
   "source": [
    "print('####### Resultados da melhor execução #######\\n')\n",
    "print(f\"Quantization Error: {best_result['quant_error']}\")\n",
    "print(f\"Topographic Error: {best_result['topo_error']}\")\n",
    "print(f\"Adjusted Rand Index: {best_result['ARI']}\")\n",
    "print(f\"F-Score: {best_result['f-measure']}\")\n",
    "print('--------------------------------------------------------------')\n",
    "## Aqui serão exibidos os índices dos elementos que compõem cada protótipo Gr\n",
    "print('Protótipos (Índices dos elementos):\\n', best_result['G'])\n",
    "print('--------------------------------------------------------------')\n",
    "print('Matriz de Pesos')\n",
    "print(best_result['v'])\n",
    "print('--------------------------------------------------------------')\n",
    "print('Matriz de Confusão - Partição Crisp vs A Priori')\n",
    "print(best_result['df-cm'])"
   ]
  },
  {
   "cell_type": "code",
   "execution_count": 30,
   "id": "368e304d",
   "metadata": {},
   "outputs": [
    {
     "data": {
      "image/png": "[encoded data removed]",
      "text/plain": [
       "<Figure size 1000x1000 with 36 Axes>"
      ]
     },
     "metadata": {},
     "output_type": "display_data"
    }
   ],
   "source": [
    "classes_count = best_result['classes_count']\n",
    "fig,ax = plt.subplots(algo.x,algo.y,figsize=(10,10))\n",
    "ax = ax.flatten()\n",
    "sbt = ['p','n']\n",
    "\n",
    "max_values = max(\n",
    "    [classes_count[key]['positives']+classes_count[key]['negatives'] for key in classes_count.keys()]\n",
    ")\n",
    "\n",
    "for idx, res in enumerate(classes_count):\n",
    "    p = classes_count[idx]['positives']\n",
    "    n = classes_count[idx]['negatives']\n",
    "    if p == 0 and n==0:\n",
    "        p=None\n",
    "        n=None\n",
    "\n",
    "    if (p is None) and (n is None):\n",
    "        ax[idx].axis('off')\n",
    "    else:\n",
    "        ax[idx].pie([p,n],labels=sbt,radius = (p+n)/max_values)"
   ]
  },
  {
   "cell_type": "code",
   "execution_count": 34,
   "id": "bcfd00fb",
   "metadata": {},
   "outputs": [
    {
     "data": {
      "text/plain": [
       "3.9540613738935653"
      ]
     },
     "execution_count": 34,
     "metadata": {},
     "output_type": "execute_result"
    }
   ],
   "source": [
    "algo.sigma_0"
   ]
  }
 ],
 "metadata": {
  "kernelspec": {
   "display_name": "Python 3 (ipykernel)",
   "language": "python",
   "name": "python3"
  },
  "language_info": {
   "codemirror_mode": {
    "name": "ipython",
    "version": 3
   },
   "file_extension": ".py",
   "mimetype": "text/x-python",
   "name": "python",
   "nbconvert_exporter": "python",
   "pygments_lexer": "ipython3",
   "version": "3.10.8"
  }
 },
 "nbformat": 4,
 "nbformat_minor": 5
}
