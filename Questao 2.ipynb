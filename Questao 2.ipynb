{
 "cells": [
  {
   "cell_type": "code",
   "execution_count": 116,
   "id": "494073f9",
   "metadata": {},
   "outputs": [],
   "source": [
    "import numpy as np\n",
    "import csv\n",
    "import pandas as pd\n",
    "\n",
    "from sklearn.model_selection import train_test_split\n",
    "from sklearn.preprocessing import StandardScaler\n",
    "from sklearn.metrics import accuracy_score, precision_score, recall_score, f1_score, log_loss\n",
    "from sklearn.linear_model import LogisticRegression\n",
    "from sklearn.naive_bayes import GaussianNB\n",
    "from sklearn.model_selection import StratifiedKFold, KFold\n",
    "from scipy.stats import friedmanchisquare\n",
    "from scikit_posthocs import posthoc_nemenyi_friedman\n",
    "from collections import defaultdict, Counter\n",
    "from tqdm.notebook import tqdm\n",
    "import matplotlib.pyplot as plt\n",
    "from scipy.stats import friedmanchisquare\n",
    "from scikit_posthocs import posthoc_nemenyi_friedman"
   ]
  },
  {
   "cell_type": "code",
   "execution_count": 12,
   "id": "3000b0be",
   "metadata": {},
   "outputs": [],
   "source": [
    "columns =[ \n",
    "'Profile_mean',\n",
    "'Profile_stdev',\n",
    "'Profile_skewness',\n",
    "'Profile_kurtosis',\n",
    "'DM_mean',\n",
    "'DM_stdev',\n",
    "'DM_skewness',\n",
    "'DM_kurtosis',\n",
    "'label'\n",
    "]"
   ]
  },
  {
   "cell_type": "code",
   "execution_count": 19,
   "id": "63ddbfa6",
   "metadata": {},
   "outputs": [],
   "source": [
    "results = defaultdict()"
   ]
  },
  {
   "cell_type": "code",
   "execution_count": 13,
   "id": "7eaf9057",
   "metadata": {},
   "outputs": [],
   "source": [
    "df_base = pd.read_csv('HTRU2/HTRU_2.csv',header=None,names=columns)\n",
    "X = np.array(df_base.drop(columns='label'))\n",
    "y = np.array(df_base.label)\n",
    "\n",
    "scaler = StandardScaler()\n",
    "X = scaler.fit_transform(X)"
   ]
  },
  {
   "cell_type": "code",
   "execution_count": 66,
   "id": "79d4f3c3",
   "metadata": {},
   "outputs": [],
   "source": [
    "def p_estimate_parzen_window(x, h, X, y):\n",
    "\n",
    "    classes = np.unique(y)\n",
    "\n",
    "    concat = np.hstack((X, np.expand_dims(y, axis=1)))\n",
    "\n",
    "    p_list = []\n",
    "\n",
    "    for i in classes:\n",
    "\n",
    "        input_values_class = concat[concat[:, -1] == i, 0:-1]\n",
    "\n",
    "        sub = (x - input_values_class) / h\n",
    "\n",
    "        cte = 1 / (np.sqrt(2) * np.pi)\n",
    "\n",
    "        K = np.prod(cte * np.exp(-sub.astype(float) ** 2 / 2), axis=1)\n",
    "\n",
    "        p = sum(K)\n",
    "\n",
    "        n_i = len(sub)\n",
    "\n",
    "        d = len(sub[0])\n",
    "\n",
    "        p_list.append([i, p / (n_i * (h**d))])\n",
    "\n",
    "        p = 0\n",
    "\n",
    "    return p_list\n",
    "\n",
    "\n",
    "def probability_priori(y):\n",
    "    \"\"\"return a list with each priori probability\"\"\"\n",
    "\n",
    "    pr_pb = Counter(y)\n",
    "\n",
    "    total = sum(pr_pb.values(), 0.0)\n",
    "\n",
    "    for key in pr_pb:\n",
    "        pr_pb[key] /= total\n",
    "\n",
    "    return pr_pb\n",
    "\n",
    "\n",
    "class Parzen:\n",
    "    def __init__(self, h=1):\n",
    "        self.h = h\n",
    "\n",
    "    def predict(self, x, X, y):\n",
    "\n",
    "        pp = probability_priori(y)\n",
    "\n",
    "        predict_parzen = []\n",
    "\n",
    "        for x_i in x:\n",
    "\n",
    "            parzen = p_estimate_parzen_window(x_i, self.h, X, y)\n",
    "\n",
    "            parzen_probs = []\n",
    "\n",
    "            for n, i in enumerate(parzen):\n",
    "                num = pp[parzen[n][0]] * parzen[n][1]\n",
    "                den = 0\n",
    "                for k, j in enumerate(parzen):\n",
    "                    den += pp[parzen[k][0]] * parzen[k][1]\n",
    "\n",
    "                parzen_probs.append(num / den)\n",
    "\n",
    "            predict_parzen.append(\n",
    "                parzen[parzen_probs.index(max(parzen_probs))][0]\n",
    "            )\n",
    "\n",
    "        return predict_parzen"
   ]
  },
  {
   "cell_type": "code",
   "execution_count": 69,
   "id": "f38b3bff",
   "metadata": {},
   "outputs": [
    {
     "name": "stderr",
     "output_type": "stream",
     "text": [
      "/tmp/ipykernel_1102149/2269071002.py:67: RuntimeWarning: invalid value encountered in double_scalars\n",
      "  parzen_probs.append(num / den)\n",
      "/tmp/ipykernel_1102149/2269071002.py:67: RuntimeWarning: invalid value encountered in double_scalars\n",
      "  parzen_probs.append(num / den)\n",
      "/tmp/ipykernel_1102149/2269071002.py:67: RuntimeWarning: invalid value encountered in double_scalars\n",
      "  parzen_probs.append(num / den)\n",
      "/tmp/ipykernel_1102149/2269071002.py:67: RuntimeWarning: invalid value encountered in double_scalars\n",
      "  parzen_probs.append(num / den)\n",
      "/tmp/ipykernel_1102149/2269071002.py:67: RuntimeWarning: invalid value encountered in double_scalars\n",
      "  parzen_probs.append(num / den)\n",
      "/tmp/ipykernel_1102149/2269071002.py:67: RuntimeWarning: invalid value encountered in double_scalars\n",
      "  parzen_probs.append(num / den)\n",
      "/tmp/ipykernel_1102149/2269071002.py:67: RuntimeWarning: invalid value encountered in double_scalars\n",
      "  parzen_probs.append(num / den)\n",
      "/tmp/ipykernel_1102149/2269071002.py:67: RuntimeWarning: invalid value encountered in double_scalars\n",
      "  parzen_probs.append(num / den)\n",
      "/tmp/ipykernel_1102149/2269071002.py:67: RuntimeWarning: invalid value encountered in double_scalars\n",
      "  parzen_probs.append(num / den)\n",
      "/tmp/ipykernel_1102149/2269071002.py:67: RuntimeWarning: invalid value encountered in double_scalars\n",
      "  parzen_probs.append(num / den)\n"
     ]
    },
    {
     "name": "stdout",
     "output_type": "stream",
     "text": [
      "Best h: 0.2677777777777778\n"
     ]
    }
   ],
   "source": [
    "X_train, X_test, y_train, y_test = train_test_split(X, y, test_size=0.3, random_state=42)\n",
    "kf = KFold(n_splits=5)\n",
    "for tr_index, tst_index in kf.split(X_train):\n",
    "\n",
    "    parameter_h = []\n",
    "\n",
    "    X_tr, X_val = X_train[tr_index], X_train[tst_index]\n",
    "    y_tr, y_val = y_train[tr_index], y_train[tst_index]\n",
    "\n",
    "    for h in np.linspace(0.01, 0.3, num=10):\n",
    "\n",
    "        parzen_classifier = Parzen(h)\n",
    "        parzen_predict = parzen_classifier.predict(X_val, X_tr, y_tr)\n",
    "\n",
    "        parameter_h.append([accuracy_score(y_val, parzen_predict), h])\n",
    "\n",
    "    h_values.append([max(parameter_h)[0], max(parameter_h)[1]])\n",
    "\n",
    "h = max(h_values)[1]\n",
    "\n",
    "print(\"Best h:\", h)"
   ]
  },
  {
   "cell_type": "code",
   "execution_count": 105,
   "id": "cfb3478a",
   "metadata": {},
   "outputs": [
    {
     "data": {
      "application/vnd.jupyter.widget-view+json": {
       "model_id": "568c28d96fbd487ba245f9ea39021a32",
       "version_major": 2,
       "version_minor": 0
      },
      "text/plain": [
       "  0%|          | 0/30 [00:00<?, ?it/s]"
      ]
     },
     "metadata": {},
     "output_type": "display_data"
    }
   ],
   "source": [
    "skf = StratifiedKFold(n_splits=10)\n",
    "kf = KFold(n_splits=5)\n",
    "\n",
    "execs_accuracy = []\n",
    "execs_precision = []\n",
    "execs_recall = []\n",
    "execs_f_measure = []\n",
    "\n",
    "train_test_split(X,y)\n",
    "\n",
    "\n",
    "for i in tqdm(range(30)):\n",
    "    for train_index, test_index in skf.split(X, y):\n",
    "        accuracy = []\n",
    "        precision = []\n",
    "        recall = []\n",
    "        f_measure = []\n",
    "        loss = []\n",
    "        \n",
    "        X_train = X[train_index]\n",
    "        y_train = y[train_index]\n",
    "\n",
    "        parzen_classifier = Parzen(h)\n",
    "        parzen_predict = parzen_classifier.predict(X_test,X_train,y_train)\n",
    "\n",
    "        accuracy.append(accuracy_score(y_test, parzen_predict))\n",
    "        precision.append(precision_score(y_test, parzen_predict, average='macro',zero_division=0))\n",
    "        recall.append(recall_score(y_test, parzen_predict, average='macro',zero_division=0))\n",
    "        f_measure.append(f1_score(y_test, parzen_predict, average='macro',zero_division=0))\n",
    "\n",
    "    execs_accuracy.append(np.mean(accuracy))\n",
    "    execs_precision.append(np.mean(precision))\n",
    "    execs_recall.append(np.mean(recall))\n",
    "    execs_f_measure.append(np.mean(f_measure))\n",
    "\n",
    "results['parzen'] = {\n",
    "    'execs_accuracy': execs_accuracy,\n",
    "    'execs_precision': execs_precision,\n",
    "    'execs_recall': execs_recall,\n",
    "    'execs_f_measure': execs_f_measure,\n",
    "}"
   ]
  },
  {
   "cell_type": "code",
   "execution_count": 74,
   "id": "e4486148",
   "metadata": {
    "scrolled": true
   },
   "outputs": [
    {
     "data": {
      "application/vnd.jupyter.widget-view+json": {
       "model_id": "319f7c814f7e45d2be39f5797acac8c2",
       "version_major": 2,
       "version_minor": 0
      },
      "text/plain": [
       "  0%|          | 0/30 [00:00<?, ?it/s]"
      ]
     },
     "metadata": {},
     "output_type": "display_data"
    }
   ],
   "source": [
    "execs_accuracy = []\n",
    "execs_precision = []\n",
    "execs_recall = []\n",
    "execs_f_measure = []\n",
    "execs_loss = []\n",
    "\n",
    "skf = StratifiedKFold(n_splits=10)\n",
    "\n",
    "for i in tqdm(range(30)):\n",
    "    for train_index, test_index in skf.split(X,y):\n",
    "        accuracy = []\n",
    "        precision = []\n",
    "        recall = []\n",
    "        f_measure = []\n",
    "        loss = []\n",
    "\n",
    "        skf = StratifiedKFold(n_splits=10,shuffle=True)\n",
    "\n",
    "        X_train, X_test = X[train_index], X[test_index]\n",
    "        y_train, y_test = y[train_index], y[test_index]\n",
    "\n",
    "        clf = LogisticRegression(random_state=42,multi_class=\"ovr\",max_iter=500).fit(X_train, y_train)\n",
    "        lr_predict = clf.predict(X_test)\n",
    "\n",
    "        accuracy.append(accuracy_score(y_test, lr_predict))\n",
    "        loss.append(log_loss(y_test,lr_predict))\n",
    "        precision.append(precision_score(y_test, lr_predict, average='macro',zero_division=0))\n",
    "        recall.append(recall_score(y_test, lr_predict, average='macro',zero_division=0))\n",
    "        f_measure.append(f1_score(y_test, lr_predict, average='macro',zero_division=0))\n",
    "        \n",
    "    execs_accuracy.append(np.mean(accuracy))\n",
    "    execs_precision.append(np.mean(precision))\n",
    "    execs_recall.append(np.mean(recall))\n",
    "    execs_f_measure.append(np.mean(f_measure))\n",
    "    execs_loss.append(np.mean(loss))\n",
    "        \n",
    "results['logistic_regression'] = {\n",
    "    'execs_accuracy': execs_accuracy,\n",
    "    'execs_precision': execs_precision,\n",
    "    'execs_recall': execs_recall,\n",
    "    'execs_f_measure': execs_f_measure,\n",
    "    'execs_loss': execs_loss,\n",
    "}"
   ]
  },
  {
   "cell_type": "code",
   "execution_count": 50,
   "id": "7598f4b2",
   "metadata": {},
   "outputs": [
    {
     "data": {
      "application/vnd.jupyter.widget-view+json": {
       "model_id": "497d3635c3c14b25a0ab81329e400c83",
       "version_major": 2,
       "version_minor": 0
      },
      "text/plain": [
       "  0%|          | 0/30 [00:00<?, ?it/s]"
      ]
     },
     "metadata": {},
     "output_type": "display_data"
    },
    {
     "name": "stdout",
     "output_type": "stream",
     "text": [
      "Run # 0 :  0.9608719955282281\n",
      "Run # 1 :  0.9502515371716043\n",
      "Run # 2 :  0.9452207937395193\n",
      "Run # 3 :  0.9435438792621577\n",
      "Run # 4 :  0.9385131358300727\n",
      "Run # 5 :  0.9491335941866965\n",
      "Run # 6 :  0.9558412520961431\n",
      "Run # 7 :  0.9357182783678032\n",
      "Run # 8 :  0.9457797652319732\n",
      "Run # 9 :  0.9429849077697038\n",
      "Run # 10 :  0.9502515371716043\n",
      "Run # 11 :  0.946338736724427\n",
      "Run # 12 :  0.951369480156512\n",
      "Run # 13 :  0.9385131358300727\n",
      "Run # 14 :  0.9435438792621577\n",
      "Run # 15 :  0.9418669647847959\n",
      "Run # 16 :  0.9496925656791504\n",
      "Run # 17 :  0.946338736724427\n",
      "Run # 18 :  0.9446618222470654\n",
      "Run # 19 :  0.9491335941866965\n",
      "Run # 20 :  0.9541643376187814\n",
      "Run # 21 :  0.9485746226942426\n",
      "Run # 22 :  0.9390721073225266\n",
      "Run # 23 :  0.9524874231414198\n",
      "Run # 24 :  0.9418669647847959\n",
      "Run # 25 :  0.941307993292342\n",
      "Run # 26 :  0.9441028507546115\n",
      "Run # 27 :  0.9385131358300727\n",
      "Run # 28 :  0.9441028507546115\n",
      "Run # 29 :  0.9491335941866965\n"
     ]
    }
   ],
   "source": [
    "execs_accuracy = []\n",
    "execs_precision = []\n",
    "execs_recall = []\n",
    "execs_f_measure = []\n",
    "execs_loss = []\n",
    "\n",
    "skf = StratifiedKFold(n_splits=10)\n",
    "\n",
    "for i in tqdm(range(30)):\n",
    "    for train_index, test_index in skf.split(X,y):\n",
    "        accuracy = []\n",
    "        precision = []\n",
    "        recall = []\n",
    "        f_measure = []\n",
    "        loss = []\n",
    "\n",
    "        skf = StratifiedKFold(n_splits=10,shuffle=True)\n",
    "\n",
    "        X_train, X_test = X[train_index], X[test_index]\n",
    "        y_train, y_test = y[train_index], y[test_index]\n",
    "\n",
    "        clf = GaussianNB().fit(X_train, y_train)\n",
    "        lr_predict = clf.predict(X_test)\n",
    "\n",
    "        accuracy.append(accuracy_score(y_test, lr_predict))\n",
    "        loss.append(log_loss(y_test,lr_predict))\n",
    "        precision.append(precision_score(y_test, lr_predict, average='macro',zero_division=0))\n",
    "        recall.append(recall_score(y_test, lr_predict, average='macro',zero_division=0))\n",
    "        f_measure.append(f1_score(y_test, lr_predict, average='macro',zero_division=0))\n",
    "        \n",
    "    execs_accuracy.append(np.mean(accuracy))\n",
    "    execs_precision.append(np.mean(precision))\n",
    "    execs_recall.append(np.mean(recall))\n",
    "    execs_f_measure.append(np.mean(f_measure))\n",
    "    execs_loss.append(np.mean(loss))\n",
    "    \n",
    "    print('Run #',i,': ',np.mean(accuracy))\n",
    "    \n",
    "results['bayesian_gaussian'] = {\n",
    "    'execs_accuracy': execs_accuracy,\n",
    "    'execs_precision': execs_precision,\n",
    "    'execs_recall': execs_recall,\n",
    "    'execs_f_measure': execs_f_measure,\n",
    "    'execs_loss': execs_loss\n",
    "}"
   ]
  },
  {
   "cell_type": "markdown",
   "id": "fb7a3ff6",
   "metadata": {},
   "source": [
    "## Distribuições dos Resultados"
   ]
  },
  {
   "cell_type": "code",
   "execution_count": 143,
   "id": "258d4f4e",
   "metadata": {},
   "outputs": [],
   "source": [
    "import scipy.stats as st\n",
    "\n",
    "def define_confidence_interval(results,alpha):\n",
    "    a = results.execs_accuracy\n",
    "    p = results.execs_precision\n",
    "    r = results.execs_recall\n",
    "    f = results.execs_f_measure\n",
    "    \n",
    "    f1_interval = st.t.interval(alpha, len(f)-1, loc=np.mean(f), scale=st.sem(f))\n",
    "    precision_interval = st.t.interval(alpha, len(p)-1, loc=np.mean(p), scale=st.sem(p))\n",
    "    recall_interval = st.t.interval(alpha, len(r)-1, loc=np.mean(r), scale=st.sem(r))\n",
    "    accuracy_interval = st.t.interval(alpha, len(a)-1, loc=np.mean(a), scale=st.sem(a))\n",
    "\n",
    "    return accuracy_interval, precision_interval, recall_interval, f1_interval"
   ]
  },
  {
   "cell_type": "code",
   "execution_count": 106,
   "id": "3b12c429",
   "metadata": {},
   "outputs": [],
   "source": [
    "bayesian_gaussian = pd.DataFrame(results['bayesian_gaussian'])\n",
    "logistic_regression = pd.DataFrame(results['logistic_regression'])\n",
    "parzen = pd.DataFrame(results['parzen'])"
   ]
  },
  {
   "cell_type": "code",
   "execution_count": 147,
   "id": "ebe6e395",
   "metadata": {},
   "outputs": [
    {
     "name": "stdout",
     "output_type": "stream",
     "text": [
      "Bayesian Gaussian Confidence Intervals:\n",
      "Accuracy Interval:  (0.9439590138786618, 0.9482340176100656)\n",
      "Precision Interval:  (0.8172590730404928, 0.8287850396559057)\n",
      "Recall Interval:  (0.8952901210731067, 0.90575353120957)\n",
      "F-measure Interval:  (0.8508242803851706, 0.8611256442611036)\n"
     ]
    }
   ],
   "source": [
    "accuracy_interval, precision_interval, recall_interval, f_interval = define_confidence_interval(bayesian_gaussian,0.95)\n",
    "print('Bayesian Gaussian Confidence Intervals:')\n",
    "print('Accuracy Interval: ', accuracy_interval)\n",
    "print('Precision Interval: ', precision_interval)\n",
    "print('Recall Interval: ', recall_interval)\n",
    "print('F-measure Interval: ', f_interval)"
   ]
  },
  {
   "cell_type": "code",
   "execution_count": 88,
   "id": "da92e72e",
   "metadata": {},
   "outputs": [
    {
     "data": {
      "text/html": [
       "<div>\n",
       "<style scoped>\n",
       "    .dataframe tbody tr th:only-of-type {\n",
       "        vertical-align: middle;\n",
       "    }\n",
       "\n",
       "    .dataframe tbody tr th {\n",
       "        vertical-align: top;\n",
       "    }\n",
       "\n",
       "    .dataframe thead th {\n",
       "        text-align: right;\n",
       "    }\n",
       "</style>\n",
       "<table border=\"1\" class=\"dataframe\">\n",
       "  <thead>\n",
       "    <tr style=\"text-align: right;\">\n",
       "      <th></th>\n",
       "      <th>execs_accuracy</th>\n",
       "      <th>execs_precision</th>\n",
       "      <th>execs_recall</th>\n",
       "      <th>execs_f_measure</th>\n",
       "      <th>execs_loss</th>\n",
       "    </tr>\n",
       "  </thead>\n",
       "  <tbody>\n",
       "    <tr>\n",
       "      <th>count</th>\n",
       "      <td>30.000000</td>\n",
       "      <td>30.000000</td>\n",
       "      <td>30.000000</td>\n",
       "      <td>30.000000</td>\n",
       "      <td>30.000000</td>\n",
       "    </tr>\n",
       "    <tr>\n",
       "      <th>mean</th>\n",
       "      <td>0.946097</td>\n",
       "      <td>0.823022</td>\n",
       "      <td>0.900522</td>\n",
       "      <td>0.855975</td>\n",
       "      <td>1.861792</td>\n",
       "    </tr>\n",
       "    <tr>\n",
       "      <th>std</th>\n",
       "      <td>0.005724</td>\n",
       "      <td>0.015434</td>\n",
       "      <td>0.014011</td>\n",
       "      <td>0.013794</td>\n",
       "      <td>0.197715</td>\n",
       "    </tr>\n",
       "    <tr>\n",
       "      <th>min</th>\n",
       "      <td>0.935718</td>\n",
       "      <td>0.795813</td>\n",
       "      <td>0.872957</td>\n",
       "      <td>0.834154</td>\n",
       "      <td>1.351456</td>\n",
       "    </tr>\n",
       "    <tr>\n",
       "      <th>25%</th>\n",
       "      <td>0.942146</td>\n",
       "      <td>0.813825</td>\n",
       "      <td>0.892459</td>\n",
       "      <td>0.844920</td>\n",
       "      <td>1.742413</td>\n",
       "    </tr>\n",
       "    <tr>\n",
       "      <th>50%</th>\n",
       "      <td>0.945500</td>\n",
       "      <td>0.820220</td>\n",
       "      <td>0.898900</td>\n",
       "      <td>0.854495</td>\n",
       "      <td>1.882387</td>\n",
       "    </tr>\n",
       "    <tr>\n",
       "      <th>75%</th>\n",
       "      <td>0.949553</td>\n",
       "      <td>0.830900</td>\n",
       "      <td>0.908193</td>\n",
       "      <td>0.863789</td>\n",
       "      <td>1.998223</td>\n",
       "    </tr>\n",
       "    <tr>\n",
       "      <th>max</th>\n",
       "      <td>0.960872</td>\n",
       "      <td>0.864864</td>\n",
       "      <td>0.926353</td>\n",
       "      <td>0.891365</td>\n",
       "      <td>2.220251</td>\n",
       "    </tr>\n",
       "  </tbody>\n",
       "</table>\n",
       "</div>"
      ],
      "text/plain": [
       "       execs_accuracy  execs_precision  execs_recall  execs_f_measure  \\\n",
       "count       30.000000        30.000000     30.000000        30.000000   \n",
       "mean         0.946097         0.823022      0.900522         0.855975   \n",
       "std          0.005724         0.015434      0.014011         0.013794   \n",
       "min          0.935718         0.795813      0.872957         0.834154   \n",
       "25%          0.942146         0.813825      0.892459         0.844920   \n",
       "50%          0.945500         0.820220      0.898900         0.854495   \n",
       "75%          0.949553         0.830900      0.908193         0.863789   \n",
       "max          0.960872         0.864864      0.926353         0.891365   \n",
       "\n",
       "       execs_loss  \n",
       "count   30.000000  \n",
       "mean     1.861792  \n",
       "std      0.197715  \n",
       "min      1.351456  \n",
       "25%      1.742413  \n",
       "50%      1.882387  \n",
       "75%      1.998223  \n",
       "max      2.220251  "
      ]
     },
     "execution_count": 88,
     "metadata": {},
     "output_type": "execute_result"
    }
   ],
   "source": [
    "bayesian_gaussian.describe()"
   ]
  },
  {
   "cell_type": "code",
   "execution_count": 151,
   "id": "62b6c414",
   "metadata": {},
   "outputs": [
    {
     "name": "stdout",
     "output_type": "stream",
     "text": [
      "Logistic Regression Confidence Intervals:\n",
      "Accuracy Interval:  (0.9779203357649373, 0.9805667147288206)\n",
      "Precision Interval:  (0.9580273965764816, 0.9649454053692057)\n",
      "Recall Interval:  (0.9040288033482686, 0.9168778883340327)\n",
      "F-measure Interval:  (0.9294266637932996, 0.9384153451292127)\n"
     ]
    }
   ],
   "source": [
    "accuracy_interval, precision_interval, recall_interval, f_interval = define_confidence_interval(logistic_regression,0.95)\n",
    "print('Logistic Regression Confidence Intervals:')\n",
    "print('Accuracy Interval: ', accuracy_interval)\n",
    "print('Precision Interval: ', precision_interval)\n",
    "print('Recall Interval: ', recall_interval)\n",
    "print('F-measure Interval: ', f_interval)"
   ]
  },
  {
   "cell_type": "code",
   "execution_count": 90,
   "id": "eee61eb7",
   "metadata": {},
   "outputs": [
    {
     "data": {
      "text/html": [
       "<div>\n",
       "<style scoped>\n",
       "    .dataframe tbody tr th:only-of-type {\n",
       "        vertical-align: middle;\n",
       "    }\n",
       "\n",
       "    .dataframe tbody tr th {\n",
       "        vertical-align: top;\n",
       "    }\n",
       "\n",
       "    .dataframe thead th {\n",
       "        text-align: right;\n",
       "    }\n",
       "</style>\n",
       "<table border=\"1\" class=\"dataframe\">\n",
       "  <thead>\n",
       "    <tr style=\"text-align: right;\">\n",
       "      <th></th>\n",
       "      <th>execs_accuracy</th>\n",
       "      <th>execs_precision</th>\n",
       "      <th>execs_recall</th>\n",
       "      <th>execs_f_measure</th>\n",
       "      <th>execs_loss</th>\n",
       "    </tr>\n",
       "  </thead>\n",
       "  <tbody>\n",
       "    <tr>\n",
       "      <th>count</th>\n",
       "      <td>30.000000</td>\n",
       "      <td>30.000000</td>\n",
       "      <td>30.000000</td>\n",
       "      <td>30.000000</td>\n",
       "      <td>30.000000</td>\n",
       "    </tr>\n",
       "    <tr>\n",
       "      <th>mean</th>\n",
       "      <td>0.979244</td>\n",
       "      <td>0.961486</td>\n",
       "      <td>0.910453</td>\n",
       "      <td>0.933921</td>\n",
       "      <td>0.716907</td>\n",
       "    </tr>\n",
       "    <tr>\n",
       "      <th>std</th>\n",
       "      <td>0.003544</td>\n",
       "      <td>0.009263</td>\n",
       "      <td>0.017205</td>\n",
       "      <td>0.012036</td>\n",
       "      <td>0.122391</td>\n",
       "    </tr>\n",
       "    <tr>\n",
       "      <th>min</th>\n",
       "      <td>0.973728</td>\n",
       "      <td>0.942317</td>\n",
       "      <td>0.881377</td>\n",
       "      <td>0.914238</td>\n",
       "      <td>0.501966</td>\n",
       "    </tr>\n",
       "    <tr>\n",
       "      <th>25%</th>\n",
       "      <td>0.976523</td>\n",
       "      <td>0.955315</td>\n",
       "      <td>0.896999</td>\n",
       "      <td>0.924619</td>\n",
       "      <td>0.584015</td>\n",
       "    </tr>\n",
       "    <tr>\n",
       "      <th>50%</th>\n",
       "      <td>0.978759</td>\n",
       "      <td>0.959299</td>\n",
       "      <td>0.910956</td>\n",
       "      <td>0.932102</td>\n",
       "      <td>0.733639</td>\n",
       "    </tr>\n",
       "    <tr>\n",
       "      <th>75%</th>\n",
       "      <td>0.983091</td>\n",
       "      <td>0.968576</td>\n",
       "      <td>0.923144</td>\n",
       "      <td>0.946388</td>\n",
       "      <td>0.810864</td>\n",
       "    </tr>\n",
       "    <tr>\n",
       "      <th>max</th>\n",
       "      <td>0.985467</td>\n",
       "      <td>0.981473</td>\n",
       "      <td>0.953625</td>\n",
       "      <td>0.956125</td>\n",
       "      <td>0.907395</td>\n",
       "    </tr>\n",
       "  </tbody>\n",
       "</table>\n",
       "</div>"
      ],
      "text/plain": [
       "       execs_accuracy  execs_precision  execs_recall  execs_f_measure  \\\n",
       "count       30.000000        30.000000     30.000000        30.000000   \n",
       "mean         0.979244         0.961486      0.910453         0.933921   \n",
       "std          0.003544         0.009263      0.017205         0.012036   \n",
       "min          0.973728         0.942317      0.881377         0.914238   \n",
       "25%          0.976523         0.955315      0.896999         0.924619   \n",
       "50%          0.978759         0.959299      0.910956         0.932102   \n",
       "75%          0.983091         0.968576      0.923144         0.946388   \n",
       "max          0.985467         0.981473      0.953625         0.956125   \n",
       "\n",
       "       execs_loss  \n",
       "count   30.000000  \n",
       "mean     0.716907  \n",
       "std      0.122391  \n",
       "min      0.501966  \n",
       "25%      0.584015  \n",
       "50%      0.733639  \n",
       "75%      0.810864  \n",
       "max      0.907395  "
      ]
     },
     "execution_count": 90,
     "metadata": {},
     "output_type": "execute_result"
    }
   ],
   "source": [
    "logistic_regression.describe()"
   ]
  },
  {
   "cell_type": "code",
   "execution_count": 150,
   "id": "103cffdc",
   "metadata": {},
   "outputs": [
    {
     "name": "stdout",
     "output_type": "stream",
     "text": [
      "Parzen Confidence Intervals:\n",
      "Accuracy Interval:  (0.9856624791237546, 0.9867174091444019)\n",
      "Precision Interval:  (0.9848388662797806, 0.9866893942330911)\n",
      "Recall Interval:  (0.928113770559382, 0.9337795705981966)\n",
      "F-measure Interval:  (0.9544801940353511, 0.9580886266064499)\n"
     ]
    }
   ],
   "source": [
    "accuracy_interval, precision_interval, recall_interval, f_interval = define_confidence_interval(parzen,0.95)\n",
    "print('Parzen Confidence Intervals:')\n",
    "print('Accuracy Interval: ', accuracy_interval)\n",
    "print('Precision Interval: ', precision_interval)\n",
    "print('Recall Interval: ', recall_interval)\n",
    "print('F-measure Interval: ', f_interval)"
   ]
  },
  {
   "cell_type": "code",
   "execution_count": 107,
   "id": "27cb032a",
   "metadata": {},
   "outputs": [
    {
     "data": {
      "text/html": [
       "<div>\n",
       "<style scoped>\n",
       "    .dataframe tbody tr th:only-of-type {\n",
       "        vertical-align: middle;\n",
       "    }\n",
       "\n",
       "    .dataframe tbody tr th {\n",
       "        vertical-align: top;\n",
       "    }\n",
       "\n",
       "    .dataframe thead th {\n",
       "        text-align: right;\n",
       "    }\n",
       "</style>\n",
       "<table border=\"1\" class=\"dataframe\">\n",
       "  <thead>\n",
       "    <tr style=\"text-align: right;\">\n",
       "      <th></th>\n",
       "      <th>execs_accuracy</th>\n",
       "      <th>execs_precision</th>\n",
       "      <th>execs_recall</th>\n",
       "      <th>execs_f_measure</th>\n",
       "      <th>execs_loss</th>\n",
       "    </tr>\n",
       "  </thead>\n",
       "  <tbody>\n",
       "    <tr>\n",
       "      <th>count</th>\n",
       "      <td>30.000000</td>\n",
       "      <td>30.000000</td>\n",
       "      <td>30.000000</td>\n",
       "      <td>30.000000</td>\n",
       "      <td>30.000000</td>\n",
       "    </tr>\n",
       "    <tr>\n",
       "      <th>mean</th>\n",
       "      <td>0.986190</td>\n",
       "      <td>0.985764</td>\n",
       "      <td>0.930947</td>\n",
       "      <td>0.956284</td>\n",
       "      <td>0.716907</td>\n",
       "    </tr>\n",
       "    <tr>\n",
       "      <th>std</th>\n",
       "      <td>0.001413</td>\n",
       "      <td>0.002478</td>\n",
       "      <td>0.007587</td>\n",
       "      <td>0.004832</td>\n",
       "      <td>0.122391</td>\n",
       "    </tr>\n",
       "    <tr>\n",
       "      <th>min</th>\n",
       "      <td>0.983464</td>\n",
       "      <td>0.977669</td>\n",
       "      <td>0.915443</td>\n",
       "      <td>0.946671</td>\n",
       "      <td>0.501966</td>\n",
       "    </tr>\n",
       "    <tr>\n",
       "      <th>25%</th>\n",
       "      <td>0.985475</td>\n",
       "      <td>0.984720</td>\n",
       "      <td>0.928051</td>\n",
       "      <td>0.953934</td>\n",
       "      <td>0.584015</td>\n",
       "    </tr>\n",
       "    <tr>\n",
       "      <th>50%</th>\n",
       "      <td>0.986369</td>\n",
       "      <td>0.985952</td>\n",
       "      <td>0.931681</td>\n",
       "      <td>0.956559</td>\n",
       "      <td>0.733639</td>\n",
       "    </tr>\n",
       "    <tr>\n",
       "      <th>75%</th>\n",
       "      <td>0.987039</td>\n",
       "      <td>0.987610</td>\n",
       "      <td>0.935499</td>\n",
       "      <td>0.959337</td>\n",
       "      <td>0.810864</td>\n",
       "    </tr>\n",
       "    <tr>\n",
       "      <th>max</th>\n",
       "      <td>0.989274</td>\n",
       "      <td>0.989213</td>\n",
       "      <td>0.947825</td>\n",
       "      <td>0.966906</td>\n",
       "      <td>0.907395</td>\n",
       "    </tr>\n",
       "  </tbody>\n",
       "</table>\n",
       "</div>"
      ],
      "text/plain": [
       "       execs_accuracy  execs_precision  execs_recall  execs_f_measure  \\\n",
       "count       30.000000        30.000000     30.000000        30.000000   \n",
       "mean         0.986190         0.985764      0.930947         0.956284   \n",
       "std          0.001413         0.002478      0.007587         0.004832   \n",
       "min          0.983464         0.977669      0.915443         0.946671   \n",
       "25%          0.985475         0.984720      0.928051         0.953934   \n",
       "50%          0.986369         0.985952      0.931681         0.956559   \n",
       "75%          0.987039         0.987610      0.935499         0.959337   \n",
       "max          0.989274         0.989213      0.947825         0.966906   \n",
       "\n",
       "       execs_loss  \n",
       "count   30.000000  \n",
       "mean     0.716907  \n",
       "std      0.122391  \n",
       "min      0.501966  \n",
       "25%      0.584015  \n",
       "50%      0.733639  \n",
       "75%      0.810864  \n",
       "max      0.907395  "
      ]
     },
     "execution_count": 107,
     "metadata": {},
     "output_type": "execute_result"
    }
   ],
   "source": [
    "parzen.describe()"
   ]
  },
  {
   "cell_type": "code",
   "execution_count": 112,
   "id": "8c193758",
   "metadata": {},
   "outputs": [
    {
     "data": {
      "text/plain": [
       "Text(0.5, 1.0, 'F-Score Distribution')"
      ]
     },
     "execution_count": 112,
     "metadata": {},
     "output_type": "execute_result"
    },
    {
     "data": {
      "image/png": "[encoded data removed]",
      "text/plain": [
       "<Figure size 640x480 with 1 Axes>"
      ]
     },
     "metadata": {},
     "output_type": "display_data"
    }
   ],
   "source": [
    "my_dict = {\n",
    "    'gaussian_bayes': bayesian_gaussian.execs_f_measure.to_list(),\n",
    "    'logistic_regression': logistic_regression.execs_f_measure.to_list(),\n",
    "    'parzen': parzen.execs_f_measure.to_list()\n",
    "}\n",
    "                                                                      \n",
    "fig, ax = plt.subplots()\n",
    "ax.boxplot(my_dict.values())\n",
    "ax.set_xticklabels(my_dict.keys())\n",
    "ax.set_title('F-Score Distribution')"
   ]
  },
  {
   "cell_type": "code",
   "execution_count": 114,
   "id": "b87f2278",
   "metadata": {},
   "outputs": [
    {
     "data": {
      "text/plain": [
       "Text(0.5, 1.0, 'Accuracy Distribution')"
      ]
     },
     "execution_count": 114,
     "metadata": {},
     "output_type": "execute_result"
    },
    {
     "data": {
      "image/png": "[encoded data removed]",
      "text/plain": [
       "<Figure size 640x480 with 1 Axes>"
      ]
     },
     "metadata": {},
     "output_type": "display_data"
    }
   ],
   "source": [
    "my_dict = {\n",
    "    'gaussian_bayes': bayesian_gaussian.execs_accuracy.to_list(),\n",
    "    'logistic_regression': logistic_regression.execs_accuracy.to_list(),\n",
    "    'parzen': parzen.execs_accuracy.to_list()\n",
    "}\n",
    "                                                                      \n",
    "fig, ax = plt.subplots()\n",
    "ax.boxplot(my_dict.values())\n",
    "ax.set_xticklabels(my_dict.keys())\n",
    "ax.set_title('Accuracy Distribution')"
   ]
  },
  {
   "cell_type": "markdown",
   "id": "ea6302ae",
   "metadata": {},
   "source": [
    "## Cálculo do teste de Friedman para o f-score"
   ]
  },
  {
   "cell_type": "code",
   "execution_count": 115,
   "id": "6d7334c3",
   "metadata": {},
   "outputs": [
    {
     "data": {
      "text/plain": [
       "FriedmanchisquareResult(statistic=60.0, pvalue=9.357622968840163e-14)"
      ]
     },
     "execution_count": 115,
     "metadata": {},
     "output_type": "execute_result"
    }
   ],
   "source": [
    "friedmanchisquare(\n",
    "    bayesian_gaussian.execs_f_measure,\n",
    "    logistic_regression.execs_f_measure, \n",
    "    parzen.execs_f_measure\n",
    ")"
   ]
  },
  {
   "cell_type": "code",
   "execution_count": 136,
   "id": "6c197974",
   "metadata": {},
   "outputs": [
    {
     "data": {
      "text/html": [
       "<div>\n",
       "<style scoped>\n",
       "    .dataframe tbody tr th:only-of-type {\n",
       "        vertical-align: middle;\n",
       "    }\n",
       "\n",
       "    .dataframe tbody tr th {\n",
       "        vertical-align: top;\n",
       "    }\n",
       "\n",
       "    .dataframe thead th {\n",
       "        text-align: right;\n",
       "    }\n",
       "</style>\n",
       "<table border=\"1\" class=\"dataframe\">\n",
       "  <thead>\n",
       "    <tr style=\"text-align: right;\">\n",
       "      <th></th>\n",
       "      <th>0</th>\n",
       "      <th>1</th>\n",
       "      <th>2</th>\n",
       "    </tr>\n",
       "  </thead>\n",
       "  <tbody>\n",
       "    <tr>\n",
       "      <th>0</th>\n",
       "      <td>1.000</td>\n",
       "      <td>0.001</td>\n",
       "      <td>0.001</td>\n",
       "    </tr>\n",
       "    <tr>\n",
       "      <th>1</th>\n",
       "      <td>0.001</td>\n",
       "      <td>1.000</td>\n",
       "      <td>0.001</td>\n",
       "    </tr>\n",
       "    <tr>\n",
       "      <th>2</th>\n",
       "      <td>0.001</td>\n",
       "      <td>0.001</td>\n",
       "      <td>1.000</td>\n",
       "    </tr>\n",
       "  </tbody>\n",
       "</table>\n",
       "</div>"
      ],
      "text/plain": [
       "       0      1      2\n",
       "0  1.000  0.001  0.001\n",
       "1  0.001  1.000  0.001\n",
       "2  0.001  0.001  1.000"
      ]
     },
     "execution_count": 136,
     "metadata": {},
     "output_type": "execute_result"
    }
   ],
   "source": [
    "group1 = list(bayesian_gaussian.execs_f_measure)\n",
    "group2 = list(parzen.execs_f_measure)\n",
    "group3 = list(logistic_regression.execs_f_measure)\n",
    "\n",
    "x = np.array([group1,group2,group3]).T\n",
    "posthoc_nemenyi_friedman(x)"
   ]
  }
 ],
 "metadata": {
  "kernelspec": {
   "display_name": "Python 3 (ipykernel)",
   "language": "python",
   "name": "python3"
  },
  "language_info": {
   "codemirror_mode": {
    "name": "ipython",
    "version": 3
   },
   "file_extension": ".py",
   "mimetype": "text/x-python",
   "name": "python",
   "nbconvert_exporter": "python",
   "pygments_lexer": "ipython3",
   "version": "3.10.8"
  }
 },
 "nbformat": 4,
 "nbformat_minor": 5
}
